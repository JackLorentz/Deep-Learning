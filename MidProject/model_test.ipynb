{
 "cells": [
  {
   "cell_type": "code",
   "execution_count": 2,
   "metadata": {},
   "outputs": [
    {
     "name": "stderr",
     "output_type": "stream",
     "text": [
      "Using TensorFlow backend.\n"
     ]
    }
   ],
   "source": [
    "#再變數後面按快捷鍵tab,有屬性或欄位提示\n",
    "import math\n",
    "import cv2\n",
    "import h5py\n",
    "import keras\n",
    "import numpy as np\n",
    "import matplotlib.pyplot as plt\n",
    "import tensorflow as tf\n",
    "\n",
    "from scipy.io import loadmat\n",
    "from keras.models import Sequential\n",
    "from keras.models import Model, load_model\n",
    "from keras.layers import Input, Conv2D, MaxPooling2D, ZeroPadding2D, Flatten, Dense, Dropout, BatchNormalization\n",
    "from keras.utils import np_utils\n",
    "from keras import optimizers, initializers\n",
    "from keras import regularizers\n",
    "from keras.datasets import mnist\n",
    "from keras.backend.tensorflow_backend import set_session"
   ]
  },
  {
   "cell_type": "code",
   "execution_count": 3,
   "metadata": {},
   "outputs": [
    {
     "data": {
      "text/plain": [
       "dict_keys(['__header__', '__version__', '__globals__', 'y_test', 'x_test', 'num_0', 'num_1', 'num_2', 'num_3', 'num_4', 'num_5', 'num_6', 'num_7', 'num_8', 'num_9', 'num_10', 'num_11', 'num_12', 'num_13', 'num_14', 'num_15', 'num_16', 'num_17', 'num_18'])"
      ]
     },
     "execution_count": 3,
     "metadata": {},
     "output_type": "execute_result"
    }
   ],
   "source": [
    "data = loadmat('midterm_test')\n",
    "data.keys()"
   ]
  },
  {
   "cell_type": "code",
   "execution_count": 3,
   "metadata": {},
   "outputs": [
    {
     "name": "stdout",
     "output_type": "stream",
     "text": [
      "X_train shape : (2000, 48, 170)\n",
      "Y_train shape : (2000, 4)\n"
     ]
    }
   ],
   "source": [
    "X_train = data['x_test']\n",
    "Y_train = data['y_test']\n",
    "print(\"X_train shape :\" , X_train.shape)\n",
    "print(\"Y_train shape :\" , Y_train.shape)"
   ]
  },
  {
   "cell_type": "code",
   "execution_count": 4,
   "metadata": {},
   "outputs": [
    {
     "data": {
      "text/plain": [
       "<matplotlib.image.AxesImage at 0x20284888278>"
      ]
     },
     "execution_count": 4,
     "metadata": {},
     "output_type": "execute_result"
    },
    {
     "data": {
      "image/png": "[encoded data removed]",
      "text/plain": [
       "<Figure size 432x288 with 1 Axes>"
      ]
     },
     "metadata": {
      "needs_background": "light"
     },
     "output_type": "display_data"
    }
   ],
   "source": [
    "test = X_train[0]\n",
    "kernel = np.ones((2,2), np.uint8)\n",
    "#test = cv2.erode(test, kernel, iterations=3)\n",
    "plt.imshow(test.reshape(48, 170))"
   ]
  },
  {
   "cell_type": "code",
   "execution_count": 5,
   "metadata": {},
   "outputs": [],
   "source": [
    "for i in range(X_train.shape[0]):\n",
    "    X_train[i] = cv2.erode(X_train[i], kernel, iterations=3)"
   ]
  },
  {
   "cell_type": "code",
   "execution_count": 6,
   "metadata": {},
   "outputs": [
    {
     "name": "stdout",
     "output_type": "stream",
     "text": [
      "number of training examples = 0\n",
      "number of test examples = 2000\n",
      "X_train shape: (0, 48, 170, 1)\n",
      "Y_train shape: (0, 4, 19)\n",
      "X_test shape: (2000, 48, 170, 1)\n",
      "Y_test shape: (2000, 4, 19)\n"
     ]
    }
   ],
   "source": [
    "X_train = X_train[:, :, :, np.newaxis]\n",
    "Y_tmp = np_utils.to_categorical(Y_train, num_classes=19)\n",
    "\n",
    "training_data_num = 0\n",
    "x_train = X_train[0:training_data_num] / 255.\n",
    "y_train = Y_tmp[0:training_data_num]\n",
    "x_test = X_train[training_data_num:X_train.shape[0]] / 255.\n",
    "y_test = Y_tmp[training_data_num:X_train.shape[0]]\n",
    "\n",
    "print (\"number of training examples = \" + str(x_train.shape[0]))\n",
    "print (\"number of test examples = \" + str(x_test.shape[0]))\n",
    "print (\"X_train shape: \" + str(x_train.shape))\n",
    "print (\"Y_train shape: \" + str(y_train.shape))\n",
    "print (\"X_test shape: \" + str(x_test.shape))\n",
    "print (\"Y_test shape: \" + str(y_test.shape))"
   ]
  },
  {
   "cell_type": "code",
   "execution_count": 7,
   "metadata": {},
   "outputs": [],
   "source": [
    "model = load_model('VGG16_model_v3.h5')"
   ]
  },
  {
   "cell_type": "code",
   "execution_count": 8,
   "metadata": {},
   "outputs": [
    {
     "name": "stdout",
     "output_type": "stream",
     "text": [
      "__________________________________________________________________________________________________\n",
      "Layer (type)                    Output Shape         Param #     Connected to                     \n",
      "==================================================================================================\n",
      "input_1 (InputLayer)            (None, 48, 170, 1)   0                                            \n",
      "__________________________________________________________________________________________________\n",
      "zero_padding2d_1 (ZeroPadding2D (None, 54, 176, 1)   0           input_1[0][0]                    \n",
      "__________________________________________________________________________________________________\n",
      "conv2d_1 (Conv2D)               (None, 54, 176, 64)  640         zero_padding2d_1[0][0]           \n",
      "__________________________________________________________________________________________________\n",
      "conv2d_2 (Conv2D)               (None, 54, 176, 64)  36928       conv2d_1[0][0]                   \n",
      "__________________________________________________________________________________________________\n",
      "batch_normalization_1 (BatchNor (None, 54, 176, 64)  256         conv2d_2[0][0]                   \n",
      "__________________________________________________________________________________________________\n",
      "max_pooling2d_1 (MaxPooling2D)  (None, 27, 88, 64)   0           batch_normalization_1[0][0]      \n",
      "__________________________________________________________________________________________________\n",
      "dropout_1 (Dropout)             (None, 27, 88, 64)   0           max_pooling2d_1[0][0]            \n",
      "__________________________________________________________________________________________________\n",
      "conv2d_3 (Conv2D)               (None, 27, 88, 128)  73856       dropout_1[0][0]                  \n",
      "__________________________________________________________________________________________________\n",
      "conv2d_4 (Conv2D)               (None, 27, 88, 128)  147584      conv2d_3[0][0]                   \n",
      "__________________________________________________________________________________________________\n",
      "batch_normalization_2 (BatchNor (None, 27, 88, 128)  512         conv2d_4[0][0]                   \n",
      "__________________________________________________________________________________________________\n",
      "max_pooling2d_2 (MaxPooling2D)  (None, 13, 44, 128)  0           batch_normalization_2[0][0]      \n",
      "__________________________________________________________________________________________________\n",
      "dropout_2 (Dropout)             (None, 13, 44, 128)  0           max_pooling2d_2[0][0]            \n",
      "__________________________________________________________________________________________________\n",
      "conv2d_5 (Conv2D)               (None, 13, 44, 256)  295168      dropout_2[0][0]                  \n",
      "__________________________________________________________________________________________________\n",
      "conv2d_6 (Conv2D)               (None, 13, 44, 256)  590080      conv2d_5[0][0]                   \n",
      "__________________________________________________________________________________________________\n",
      "conv2d_7 (Conv2D)               (None, 13, 44, 256)  590080      conv2d_6[0][0]                   \n",
      "__________________________________________________________________________________________________\n",
      "batch_normalization_3 (BatchNor (None, 13, 44, 256)  1024        conv2d_7[0][0]                   \n",
      "__________________________________________________________________________________________________\n",
      "max_pooling2d_3 (MaxPooling2D)  (None, 6, 22, 256)   0           batch_normalization_3[0][0]      \n",
      "__________________________________________________________________________________________________\n",
      "dropout_3 (Dropout)             (None, 6, 22, 256)   0           max_pooling2d_3[0][0]            \n",
      "__________________________________________________________________________________________________\n",
      "conv2d_8 (Conv2D)               (None, 6, 22, 512)   1180160     dropout_3[0][0]                  \n",
      "__________________________________________________________________________________________________\n",
      "conv2d_9 (Conv2D)               (None, 6, 22, 512)   2359808     conv2d_8[0][0]                   \n",
      "__________________________________________________________________________________________________\n",
      "conv2d_10 (Conv2D)              (None, 6, 22, 512)   2359808     conv2d_9[0][0]                   \n",
      "__________________________________________________________________________________________________\n",
      "batch_normalization_4 (BatchNor (None, 6, 22, 512)   2048        conv2d_10[0][0]                  \n",
      "__________________________________________________________________________________________________\n",
      "max_pooling2d_4 (MaxPooling2D)  (None, 3, 11, 512)   0           batch_normalization_4[0][0]      \n",
      "__________________________________________________________________________________________________\n",
      "dropout_4 (Dropout)             (None, 3, 11, 512)   0           max_pooling2d_4[0][0]            \n",
      "__________________________________________________________________________________________________\n",
      "flatten_1 (Flatten)             (None, 16896)        0           dropout_4[0][0]                  \n",
      "__________________________________________________________________________________________________\n",
      "dense_1 (Dense)                 (None, 512)          8651264     flatten_1[0][0]                  \n",
      "__________________________________________________________________________________________________\n",
      "dropout_5 (Dropout)             (None, 512)          0           dense_1[0][0]                    \n",
      "__________________________________________________________________________________________________\n",
      "dense_2 (Dense)                 (None, 256)          131328      dropout_5[0][0]                  \n",
      "__________________________________________________________________________________________________\n",
      "dense_3 (Dense)                 (None, 256)          131328      dropout_5[0][0]                  \n",
      "__________________________________________________________________________________________________\n",
      "dense_4 (Dense)                 (None, 256)          131328      dropout_5[0][0]                  \n",
      "__________________________________________________________________________________________________\n",
      "dense_5 (Dense)                 (None, 256)          131328      dropout_5[0][0]                  \n",
      "__________________________________________________________________________________________________\n",
      "batch_normalization_5 (BatchNor (None, 256)          1024        dense_2[0][0]                    \n",
      "__________________________________________________________________________________________________\n",
      "batch_normalization_6 (BatchNor (None, 256)          1024        dense_3[0][0]                    \n",
      "__________________________________________________________________________________________________\n",
      "batch_normalization_7 (BatchNor (None, 256)          1024        dense_4[0][0]                    \n",
      "__________________________________________________________________________________________________\n",
      "batch_normalization_8 (BatchNor (None, 256)          1024        dense_5[0][0]                    \n",
      "__________________________________________________________________________________________________\n",
      "dropout_6 (Dropout)             (None, 256)          0           batch_normalization_5[0][0]      \n",
      "__________________________________________________________________________________________________\n",
      "dropout_7 (Dropout)             (None, 256)          0           batch_normalization_6[0][0]      \n",
      "__________________________________________________________________________________________________\n",
      "dropout_8 (Dropout)             (None, 256)          0           batch_normalization_7[0][0]      \n",
      "__________________________________________________________________________________________________\n",
      "dropout_9 (Dropout)             (None, 256)          0           batch_normalization_8[0][0]      \n",
      "__________________________________________________________________________________________________\n",
      "fc0_19 (Dense)                  (None, 19)           4883        dropout_6[0][0]                  \n",
      "__________________________________________________________________________________________________\n",
      "fc1_19 (Dense)                  (None, 19)           4883        dropout_7[0][0]                  \n",
      "__________________________________________________________________________________________________\n",
      "fc2_19 (Dense)                  (None, 19)           4883        dropout_8[0][0]                  \n",
      "__________________________________________________________________________________________________\n",
      "fc3_19 (Dense)                  (None, 19)           4883        dropout_9[0][0]                  \n",
      "==================================================================================================\n",
      "Total params: 16,838,156\n",
      "Trainable params: 16,834,188\n",
      "Non-trainable params: 3,968\n",
      "__________________________________________________________________________________________________\n"
     ]
    }
   ],
   "source": [
    "model.summary()"
   ]
  },
  {
   "cell_type": "code",
   "execution_count": 9,
   "metadata": {},
   "outputs": [],
   "source": [
    "def predict_accuracy(model, x_test, y_test):\n",
    "    correct_words = 0\n",
    "    correct_img = 0\n",
    "    \n",
    "    y_predict = model.predict(x_test)\n",
    "    for i in range(x_test.shape[0]):\n",
    "        cnt = 0\n",
    "        for j in range(4):\n",
    "            label = y_predict[j]\n",
    "            #label[i, :]代表第i筆資料的第j個字為各符號的機率\n",
    "            if np.argmax(y_test[i, j, :]) == np.argmax(label[i, :]):\n",
    "                correct_words += 1\n",
    "                cnt += 1\n",
    "        if cnt == 4:\n",
    "            correct_img += 1\n",
    "                \n",
    "    total_words = x_test.shape[0]*4\n",
    "    wrong_words = total_words - correct_words\n",
    "    \n",
    "    return wrong_words, correct_words / total_words, correct_img / x_test.shape[0]"
   ]
  },
  {
   "cell_type": "code",
   "execution_count": 10,
   "metadata": {},
   "outputs": [
    {
     "name": "stdout",
     "output_type": "stream",
     "text": [
      "2000 _pictures_total_wrong: 96\n",
      "one word accuracy: 0.988\n",
      "accuracy: 0.9565\n"
     ]
    }
   ],
   "source": [
    "wrong_words, word_acc, acc = predict_accuracy(model, x_test, y_test)\n",
    "print(x_test.shape[0], '_pictures_total_wrong:', wrong_words)\n",
    "print('one word accuracy:', word_acc)\n",
    "print('accuracy:', acc)"
   ]
  },
  {
   "cell_type": "code",
   "execution_count": 11,
   "metadata": {},
   "outputs": [],
   "source": [
    "def show_result(model, X_train, x_test, y_test):\n",
    "    dict = {0:'2', 1:'3', 2:'4', 3:'5', 4:'7', 5:'9', 6:'A', 7:'C', 8:'F', 9:'H', 10:'K', 11:'M', 12:'N', 13:'P', 14:'Q', 15:'R', 16:'T', 17:'Y', 18:'Z'}\n",
    "    y_predict = model.predict(x_test[0:40])\n",
    "    #印預測結果\n",
    "    for i in range(40):\n",
    "        print('predict=[ ', end='')\n",
    "        cnt = 0\n",
    "        for j in range(4):\n",
    "            label = y_predict[j]\n",
    "            c = np.argmax(label[i, :])\n",
    "            \n",
    "            if c != np.argmax(y_test[i, j, :]):\n",
    "                cnt += 1\n",
    "            \n",
    "            if j < 3:\n",
    "                print(\"'\" + dict[c] + \"', \", end='')\n",
    "            else:\n",
    "                print(\"'\" + dict[c] + \"']\")\n",
    "        \n",
    "        print('answer=[ ', end='')\n",
    "        for j in range(4):\n",
    "            c = np.argmax(y_test[i, j, :])\n",
    "            if j < 3:\n",
    "                print(\"'\" + dict[c] + \"', \", end='')\n",
    "            else:\n",
    "                print(\"'\" + dict[c] + \"'], \", end='')\n",
    "        print('wrong words =', cnt)\n",
    "    #印預處理結果 \n",
    "    fig = plt.figure(figsize=(30, 10))\n",
    "    for i in range(5):\n",
    "        fig.add_subplot(5, 1, i+1)\n",
    "        plt.imshow(X_train[training_data_num+i].reshape(48, 170))\n",
    "    plt.show()"
   ]
  },
  {
   "cell_type": "code",
   "execution_count": 12,
   "metadata": {},
   "outputs": [
    {
     "name": "stdout",
     "output_type": "stream",
     "text": [
      "predict=[ '2', '2', 'N', 'R']\n",
      "answer=[ '2', '2', 'N', 'R'], wrong words = 0\n",
      "predict=[ '2', '2', 'Y', '5']\n",
      "answer=[ '2', '2', 'Y', '5'], wrong words = 0\n",
      "predict=[ '2', '3', '9', 'P']\n",
      "answer=[ '2', '3', '9', 'P'], wrong words = 0\n",
      "predict=[ '2', '3', 'F', 'N']\n",
      "answer=[ '2', '3', 'F', 'N'], wrong words = 0\n",
      "predict=[ '2', '3', 'Z', 'Q']\n",
      "answer=[ '2', '3', 'Z', 'Q'], wrong words = 0\n",
      "predict=[ '2', '7', 'M', '5']\n",
      "answer=[ '2', '7', 'M', '5'], wrong words = 0\n",
      "predict=[ '2', 'F', 'A', '9']\n",
      "answer=[ '2', 'F', 'A', '9'], wrong words = 0\n",
      "predict=[ '2', 'F', 'T', 'C']\n",
      "answer=[ '2', 'F', 'T', 'C'], wrong words = 0\n",
      "predict=[ '2', 'H', 'T', 'M']\n",
      "answer=[ '2', 'H', 'T', 'M'], wrong words = 0\n",
      "predict=[ '2', 'M', '3', '4']\n",
      "answer=[ '2', 'M', '3', '4'], wrong words = 0\n",
      "predict=[ '2', 'P', '2', '9']\n",
      "answer=[ '2', 'P', '2', '9'], wrong words = 0\n",
      "predict=[ '2', 'Q', 'F', 'F']\n",
      "answer=[ '2', 'Q', 'F', 'F'], wrong words = 0\n",
      "predict=[ '2', 'R', '9', 'A']\n",
      "answer=[ '2', 'R', '9', 'A'], wrong words = 0\n",
      "predict=[ '2', 'R', 'F', '2']\n",
      "answer=[ '2', 'R', 'F', '2'], wrong words = 0\n",
      "predict=[ '2', 'R', 'Z', 'Y']\n",
      "answer=[ '2', 'R', 'Z', 'Y'], wrong words = 0\n",
      "predict=[ '2', 'T', 'Z', 'M']\n",
      "answer=[ '2', 'T', 'Z', 'M'], wrong words = 0\n",
      "predict=[ '2', 'Y', 'Q', '5']\n",
      "answer=[ '2', 'Y', 'Q', '5'], wrong words = 0\n",
      "predict=[ '3', '2', 'A', '7']\n",
      "answer=[ '3', '2', 'A', '7'], wrong words = 0\n",
      "predict=[ '3', '3', '3', 'Q']\n",
      "answer=[ '3', '3', '3', 'Q'], wrong words = 0\n",
      "predict=[ '3', '3', 'Y', 'Z']\n",
      "answer=[ '3', '3', 'Y', 'Z'], wrong words = 0\n",
      "predict=[ '3', '4', 'H', '4']\n",
      "answer=[ '3', '4', 'H', '4'], wrong words = 0\n",
      "predict=[ '3', '5', '7', 'Q']\n",
      "answer=[ '3', '5', '7', 'Q'], wrong words = 0\n",
      "predict=[ '3', '5', 'Q', 'K']\n",
      "answer=[ '3', '5', 'Q', 'K'], wrong words = 0\n",
      "predict=[ '3', '7', 'R', '9']\n",
      "answer=[ '3', '7', 'R', '9'], wrong words = 0\n",
      "predict=[ '3', '7', 'Y', 'T']\n",
      "answer=[ '3', '7', 'Y', 'T'], wrong words = 0\n",
      "predict=[ '3', '7', 'Z', 'N']\n",
      "answer=[ '3', '7', 'Z', 'N'], wrong words = 0\n",
      "predict=[ '3', 'A', '4', 'Q']\n",
      "answer=[ '3', 'A', '4', 'Q'], wrong words = 0\n",
      "predict=[ '3', 'C', 'A', 'F']\n",
      "answer=[ '3', 'C', 'A', 'F'], wrong words = 0\n",
      "predict=[ '3', 'C', 'F', '3']\n",
      "answer=[ '3', 'C', 'F', '3'], wrong words = 0\n",
      "predict=[ '3', 'C', 'T', '3']\n",
      "answer=[ '3', 'C', 'T', '3'], wrong words = 0\n",
      "predict=[ '3', 'F', '9', '4']\n",
      "answer=[ '3', 'F', '9', '4'], wrong words = 0\n",
      "predict=[ '3', 'H', 'C', 'C']\n",
      "answer=[ '3', 'H', 'C', 'C'], wrong words = 0\n",
      "predict=[ '3', 'K', '4', 'Y']\n",
      "answer=[ '3', '5', '4', 'Y'], wrong words = 1\n",
      "predict=[ '3', 'K', '9', 'P']\n",
      "answer=[ '3', '5', '9', 'P'], wrong words = 1\n",
      "predict=[ '3', 'K', 'K', 'P']\n",
      "answer=[ '3', '5', '5', 'P'], wrong words = 2\n",
      "predict=[ '3', 'K', 'Y', 'K']\n",
      "answer=[ '3', '5', 'Y', '5'], wrong words = 2\n",
      "predict=[ '3', 'M', '3', 'C']\n",
      "answer=[ '3', 'M', '3', 'C'], wrong words = 0\n",
      "predict=[ '3', 'M', '9', 'P']\n",
      "answer=[ '3', 'M', '9', 'P'], wrong words = 0\n",
      "predict=[ '3', 'M', '9', 'T']\n",
      "answer=[ '3', 'M', '9', 'T'], wrong words = 0\n",
      "predict=[ '3', 'P', '4', '4']\n",
      "answer=[ '3', 'P', '4', '4'], wrong words = 0\n"
     ]
    },
    {
     "data": {
      "image/png": "[encoded data removed]",
      "text/plain": [
       "<Figure size 2160x720 with 5 Axes>"
      ]
     },
     "metadata": {
      "needs_background": "light"
     },
     "output_type": "display_data"
    }
   ],
   "source": [
    "show_result(model, X_train, x_test, y_test)"
   ]
  },
  {
   "cell_type": "code",
   "execution_count": null,
   "metadata": {},
   "outputs": [],
   "source": []
  }
 ],
 "metadata": {
  "kernelspec": {
   "display_name": "Python 3",
   "language": "python",
   "name": "python3"
  },
  "language_info": {
   "codemirror_mode": {
    "name": "ipython",
    "version": 3
   },
   "file_extension": ".py",
   "mimetype": "text/x-python",
   "name": "python",
   "nbconvert_exporter": "python",
   "pygments_lexer": "ipython3",
   "version": "3.6.8"
  }
 },
 "nbformat": 4,
 "nbformat_minor": 2
}
