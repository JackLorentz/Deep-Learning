{
 "cells": [
  {
   "cell_type": "code",
   "execution_count": 1,
   "metadata": {},
   "outputs": [
    {
     "name": "stderr",
     "output_type": "stream",
     "text": [
      "Using TensorFlow backend.\n"
     ]
    }
   ],
   "source": [
    "#再變數後面按快捷鍵tab,有屬性或欄位提示\n",
    "import math\n",
    "import cv2\n",
    "import h5py\n",
    "import keras\n",
    "import numpy as np\n",
    "import matplotlib.pyplot as plt\n",
    "import tensorflow as tf\n",
    "\n",
    "from scipy.io import loadmat\n",
    "from keras.models import Sequential\n",
    "from keras.models import Model, load_model\n",
    "from keras.layers import Input, Conv2D, MaxPooling2D, ZeroPadding2D, Flatten, Dense, Dropout, BatchNormalization\n",
    "from keras.utils import np_utils\n",
    "from keras import optimizers, initializers\n",
    "from keras import regularizers\n",
    "from keras.datasets import mnist\n",
    "from keras.backend.tensorflow_backend import set_session"
   ]
  },
  {
   "cell_type": "code",
   "execution_count": 2,
   "metadata": {},
   "outputs": [],
   "source": [
    "def VGG16(input_shape = (48, 170, 1), classes = 19):\n",
    "    \n",
    "    # Define the input as a tensor with shape input_shape\n",
    "    X_input = Input(input_shape)\n",
    "\n",
    "    # Zero-Padding\n",
    "    X = ZeroPadding2D((3, 3))(X_input)\n",
    "    \n",
    "    X = Conv2D(64, (3, 3), input_shape=input_shape, activation='relu', padding='same', kernel_initializer = initializers.he_normal(seed=0))(X)\n",
    "    X = Conv2D(64, (3, 3), input_shape=input_shape, activation='relu', padding='same', kernel_initializer = initializers.he_normal(seed=0))(X)\n",
    "    X = BatchNormalization()(X)\n",
    "    X = MaxPooling2D(pool_size=(2, 2), strides=(2, 2))(X)\n",
    "    X = Dropout(0.1)(X)\n",
    "   \n",
    "    X = Conv2D(128, (3, 3), input_shape=input_shape, activation='relu', padding='same', kernel_initializer = initializers.he_normal(seed=0))(X)\n",
    "    X = Conv2D(128, (3, 3), input_shape=input_shape, activation='relu', padding='same', kernel_initializer = initializers.he_normal(seed=0))(X)\n",
    "    X = BatchNormalization()(X)\n",
    "    X = MaxPooling2D(pool_size=(2, 2), strides=(2, 2))(X)\n",
    "    X = Dropout(0.15)(X)\n",
    "\n",
    "    X = Conv2D(256, (3, 3), input_shape=input_shape, activation='relu', padding='same', kernel_initializer = initializers.he_normal(seed=0))(X)\n",
    "    X = Conv2D(256, (3, 3), input_shape=input_shape, activation='relu', padding='same', kernel_initializer = initializers.he_normal(seed=0))(X)\n",
    "    X = Conv2D(256, (3, 3), input_shape=input_shape, activation='relu', padding='same', kernel_initializer = initializers.he_normal(seed=0))(X)\n",
    "    X = BatchNormalization()(X)\n",
    "    X = MaxPooling2D(pool_size=(2, 2), strides=(2, 2))(X)\n",
    "    X = Dropout(0.2)(X)\n",
    "    \n",
    "    X = Conv2D(512, (3, 3), input_shape=input_shape, activation='relu', padding='same', kernel_initializer = initializers.he_normal(seed=0))(X)\n",
    "    X = Conv2D(512, (3, 3), input_shape=input_shape, activation='relu', padding='same', kernel_initializer = initializers.he_normal(seed=0))(X)\n",
    "    X = Conv2D(512, (3, 3), input_shape=input_shape, activation='relu', padding='same', kernel_initializer = initializers.he_normal(seed=0))(X)\n",
    "    X = BatchNormalization()(X)\n",
    "    X = MaxPooling2D(pool_size=(2, 2), strides=(2, 2))(X)\n",
    "    X = Dropout(0.25)(X)\n",
    "\n",
    "    #flatten layer: 由於之前擷取特徵都用2維, 所以要加一個\"平坦層\"轉換成1維再丟進fully connected neural network\n",
    "    X = Flatten()(X)\n",
    "    \n",
    "    X = Dense(512, activation='relu', kernel_initializer=initializers.he_normal(seed=0))(X)\n",
    "    X = Dropout(0.2)(X)\n",
    "    \n",
    "    X0 = Dense(256, activation='relu', kernel_initializer=initializers.he_normal(seed=0))(X)\n",
    "    X0 = BatchNormalization()(X0)\n",
    "    X0 = Dropout(0.2)(X0)\n",
    "    X0 = Dense(classes, activation='softmax', name='fc0_' + str(classes), kernel_initializer = initializers.glorot_uniform(seed=0))(X0)\n",
    "    \n",
    "    X1 = Dense(256, activation='relu', kernel_initializer=initializers.he_normal(seed=0))(X)\n",
    "    X1 = BatchNormalization()(X1)\n",
    "    X1 = Dropout(0.2)(X1)\n",
    "    X1 = Dense(classes, activation='softmax', name='fc1_' + str(classes), kernel_initializer = initializers.glorot_uniform(seed=0))(X1)\n",
    "    \n",
    "    X2 = Dense(256, activation='relu', kernel_initializer=initializers.he_normal(seed=0))(X)\n",
    "    X2 = BatchNormalization()(X2)\n",
    "    X2 = Dropout(0.2)(X2)\n",
    "    X2 = Dense(classes, activation='softmax', name='fc2_' + str(classes), kernel_initializer = initializers.glorot_uniform(seed=0))(X2)\n",
    "    \n",
    "    X3 = Dense(256, activation='relu', kernel_initializer=initializers.he_normal(seed=0))(X)\n",
    "    X3 = BatchNormalization()(X3)\n",
    "    X3 = Dropout(0.2)(X3)\n",
    "    X3 = Dense(classes, activation='softmax', name='fc3_' + str(classes), kernel_initializer = initializers.glorot_uniform(seed=0))(X3)\n",
    "    \n",
    "    # Create model\n",
    "    model = Model(inputs = X_input, outputs = [X0, X1, X2, X3], name='VGG16')\n",
    "    \n",
    "    return model"
   ]
  },
  {
   "cell_type": "code",
   "execution_count": 4,
   "metadata": {},
   "outputs": [
    {
     "data": {
      "text/plain": [
       "dict_keys(['__version__', 'x_train', '__globals__', 'y_train', '__header__'])"
      ]
     },
     "execution_count": 4,
     "metadata": {},
     "output_type": "execute_result"
    }
   ],
   "source": [
    "data = loadmat('../data/train')\n",
    "data.keys()"
   ]
  },
  {
   "cell_type": "code",
   "execution_count": 5,
   "metadata": {},
   "outputs": [
    {
     "name": "stdout",
     "output_type": "stream",
     "text": [
      "X_train shape : (5838, 48, 170)\n",
      "Y_train shape : (5838, 4)\n"
     ]
    }
   ],
   "source": [
    "X_train = data['x_train']\n",
    "Y_train = data['y_train']\n",
    "print(\"X_train shape :\" , X_train.shape)\n",
    "print(\"Y_train shape :\" , Y_train.shape)"
   ]
  },
  {
   "cell_type": "code",
   "execution_count": 6,
   "metadata": {},
   "outputs": [
    {
     "data": {
      "text/plain": [
       "<matplotlib.image.AxesImage at 0x2b41e78b6a0>"
      ]
     },
     "execution_count": 6,
     "metadata": {},
     "output_type": "execute_result"
    },
    {
     "data": {
      "image/png": "[encoded data removed]",
      "text/plain": [
       "<Figure size 432x288 with 1 Axes>"
      ]
     },
     "metadata": {
      "needs_background": "light"
     },
     "output_type": "display_data"
    }
   ],
   "source": [
    "test = X_train[0]\n",
    "kernel = np.ones((2,2), np.uint8)\n",
    "#test = cv2.erode(test, kernel, iterations=3)\n",
    "plt.imshow(test)"
   ]
  },
  {
   "cell_type": "code",
   "execution_count": 6,
   "metadata": {},
   "outputs": [],
   "source": [
    "for i in range(X_train.shape[0]):\n",
    "    X_train[i] = cv2.erode(X_train[i], kernel, iterations=3)"
   ]
  },
  {
   "cell_type": "code",
   "execution_count": 7,
   "metadata": {},
   "outputs": [
    {
     "name": "stdout",
     "output_type": "stream",
     "text": [
      "number of training examples = 5838\n",
      "number of test examples = 0\n",
      "X_train shape: (5838, 48, 170, 1)\n",
      "Y_train shape: (5838, 4, 19)\n",
      "X_test shape: (0, 48, 170, 1)\n",
      "Y_test shape: (0, 4, 19)\n"
     ]
    }
   ],
   "source": [
    "X_train = X_train[:, :, :, np.newaxis]\n",
    "Y_tmp = np_utils.to_categorical(Y_train, num_classes=19)\n",
    "\n",
    "training_data_num = 5838\n",
    "x_train = X_train[0:training_data_num] / 255.\n",
    "y_train = Y_tmp[0:training_data_num]\n",
    "x_test = X_train[training_data_num:X_train.shape[0]] / 255.\n",
    "y_test = Y_tmp[training_data_num:X_train.shape[0]]\n",
    "\n",
    "print (\"number of training examples = \" + str(x_train.shape[0]))\n",
    "print (\"number of test examples = \" + str(x_test.shape[0]))\n",
    "print (\"X_train shape: \" + str(x_train.shape))\n",
    "print (\"Y_train shape: \" + str(y_train.shape))\n",
    "print (\"X_test shape: \" + str(x_test.shape))\n",
    "print (\"Y_test shape: \" + str(y_test.shape))"
   ]
  },
  {
   "cell_type": "code",
   "execution_count": 8,
   "metadata": {},
   "outputs": [],
   "source": [
    "model = VGG16(input_shape = (48, 170, 1), classes = 19)"
   ]
  },
  {
   "cell_type": "code",
   "execution_count": 9,
   "metadata": {
    "scrolled": true
   },
   "outputs": [
    {
     "name": "stdout",
     "output_type": "stream",
     "text": [
      "__________________________________________________________________________________________________\n",
      "Layer (type)                    Output Shape         Param #     Connected to                     \n",
      "==================================================================================================\n",
      "input_1 (InputLayer)            (None, 48, 170, 1)   0                                            \n",
      "__________________________________________________________________________________________________\n",
      "zero_padding2d_1 (ZeroPadding2D (None, 54, 176, 1)   0           input_1[0][0]                    \n",
      "__________________________________________________________________________________________________\n",
      "conv2d_1 (Conv2D)               (None, 54, 176, 64)  640         zero_padding2d_1[0][0]           \n",
      "__________________________________________________________________________________________________\n",
      "conv2d_2 (Conv2D)               (None, 54, 176, 64)  36928       conv2d_1[0][0]                   \n",
      "__________________________________________________________________________________________________\n",
      "batch_normalization_1 (BatchNor (None, 54, 176, 64)  256         conv2d_2[0][0]                   \n",
      "__________________________________________________________________________________________________\n",
      "max_pooling2d_1 (MaxPooling2D)  (None, 27, 88, 64)   0           batch_normalization_1[0][0]      \n",
      "__________________________________________________________________________________________________\n",
      "dropout_1 (Dropout)             (None, 27, 88, 64)   0           max_pooling2d_1[0][0]            \n",
      "__________________________________________________________________________________________________\n",
      "conv2d_3 (Conv2D)               (None, 27, 88, 128)  73856       dropout_1[0][0]                  \n",
      "__________________________________________________________________________________________________\n",
      "conv2d_4 (Conv2D)               (None, 27, 88, 128)  147584      conv2d_3[0][0]                   \n",
      "__________________________________________________________________________________________________\n",
      "batch_normalization_2 (BatchNor (None, 27, 88, 128)  512         conv2d_4[0][0]                   \n",
      "__________________________________________________________________________________________________\n",
      "max_pooling2d_2 (MaxPooling2D)  (None, 13, 44, 128)  0           batch_normalization_2[0][0]      \n",
      "__________________________________________________________________________________________________\n",
      "dropout_2 (Dropout)             (None, 13, 44, 128)  0           max_pooling2d_2[0][0]            \n",
      "__________________________________________________________________________________________________\n",
      "conv2d_5 (Conv2D)               (None, 13, 44, 256)  295168      dropout_2[0][0]                  \n",
      "__________________________________________________________________________________________________\n",
      "conv2d_6 (Conv2D)               (None, 13, 44, 256)  590080      conv2d_5[0][0]                   \n",
      "__________________________________________________________________________________________________\n",
      "conv2d_7 (Conv2D)               (None, 13, 44, 256)  590080      conv2d_6[0][0]                   \n",
      "__________________________________________________________________________________________________\n",
      "batch_normalization_3 (BatchNor (None, 13, 44, 256)  1024        conv2d_7[0][0]                   \n",
      "__________________________________________________________________________________________________\n",
      "max_pooling2d_3 (MaxPooling2D)  (None, 6, 22, 256)   0           batch_normalization_3[0][0]      \n",
      "__________________________________________________________________________________________________\n",
      "dropout_3 (Dropout)             (None, 6, 22, 256)   0           max_pooling2d_3[0][0]            \n",
      "__________________________________________________________________________________________________\n",
      "conv2d_8 (Conv2D)               (None, 6, 22, 512)   1180160     dropout_3[0][0]                  \n",
      "__________________________________________________________________________________________________\n",
      "conv2d_9 (Conv2D)               (None, 6, 22, 512)   2359808     conv2d_8[0][0]                   \n",
      "__________________________________________________________________________________________________\n",
      "conv2d_10 (Conv2D)              (None, 6, 22, 512)   2359808     conv2d_9[0][0]                   \n",
      "__________________________________________________________________________________________________\n",
      "batch_normalization_4 (BatchNor (None, 6, 22, 512)   2048        conv2d_10[0][0]                  \n",
      "__________________________________________________________________________________________________\n",
      "max_pooling2d_4 (MaxPooling2D)  (None, 3, 11, 512)   0           batch_normalization_4[0][0]      \n",
      "__________________________________________________________________________________________________\n",
      "dropout_4 (Dropout)             (None, 3, 11, 512)   0           max_pooling2d_4[0][0]            \n",
      "__________________________________________________________________________________________________\n",
      "flatten_1 (Flatten)             (None, 16896)        0           dropout_4[0][0]                  \n",
      "__________________________________________________________________________________________________\n",
      "dense_1 (Dense)                 (None, 512)          8651264     flatten_1[0][0]                  \n",
      "__________________________________________________________________________________________________\n",
      "dropout_5 (Dropout)             (None, 512)          0           dense_1[0][0]                    \n",
      "__________________________________________________________________________________________________\n",
      "dense_2 (Dense)                 (None, 256)          131328      dropout_5[0][0]                  \n",
      "__________________________________________________________________________________________________\n",
      "dense_3 (Dense)                 (None, 256)          131328      dropout_5[0][0]                  \n",
      "__________________________________________________________________________________________________\n",
      "dense_4 (Dense)                 (None, 256)          131328      dropout_5[0][0]                  \n",
      "__________________________________________________________________________________________________\n",
      "dense_5 (Dense)                 (None, 256)          131328      dropout_5[0][0]                  \n",
      "__________________________________________________________________________________________________\n",
      "batch_normalization_5 (BatchNor (None, 256)          1024        dense_2[0][0]                    \n",
      "__________________________________________________________________________________________________\n",
      "batch_normalization_6 (BatchNor (None, 256)          1024        dense_3[0][0]                    \n",
      "__________________________________________________________________________________________________\n",
      "batch_normalization_7 (BatchNor (None, 256)          1024        dense_4[0][0]                    \n",
      "__________________________________________________________________________________________________\n",
      "batch_normalization_8 (BatchNor (None, 256)          1024        dense_5[0][0]                    \n",
      "__________________________________________________________________________________________________\n",
      "dropout_6 (Dropout)             (None, 256)          0           batch_normalization_5[0][0]      \n",
      "__________________________________________________________________________________________________\n",
      "dropout_7 (Dropout)             (None, 256)          0           batch_normalization_6[0][0]      \n",
      "__________________________________________________________________________________________________\n",
      "dropout_8 (Dropout)             (None, 256)          0           batch_normalization_7[0][0]      \n",
      "__________________________________________________________________________________________________\n",
      "dropout_9 (Dropout)             (None, 256)          0           batch_normalization_8[0][0]      \n",
      "__________________________________________________________________________________________________\n",
      "fc0_19 (Dense)                  (None, 19)           4883        dropout_6[0][0]                  \n",
      "__________________________________________________________________________________________________\n",
      "fc1_19 (Dense)                  (None, 19)           4883        dropout_7[0][0]                  \n",
      "__________________________________________________________________________________________________\n",
      "fc2_19 (Dense)                  (None, 19)           4883        dropout_8[0][0]                  \n",
      "__________________________________________________________________________________________________\n",
      "fc3_19 (Dense)                  (None, 19)           4883        dropout_9[0][0]                  \n",
      "==================================================================================================\n",
      "Total params: 16,838,156\n",
      "Trainable params: 16,834,188\n",
      "Non-trainable params: 3,968\n",
      "__________________________________________________________________________________________________\n"
     ]
    }
   ],
   "source": [
    "model.compile(optimizer='adamax', loss='categorical_crossentropy', metrics=['accuracy'])\n",
    "model.summary()"
   ]
  },
  {
   "cell_type": "code",
   "execution_count": 10,
   "metadata": {
    "scrolled": false
   },
   "outputs": [
    {
     "name": "stdout",
     "output_type": "stream",
     "text": [
      "Train on 5546 samples, validate on 292 samples\n",
      "Epoch 1/40\n",
      "5546/5546 [==============================] - 57s 10ms/step - loss: 12.8544 - fc0_19_loss: 3.1879 - fc1_19_loss: 3.2397 - fc2_19_loss: 3.2404 - fc3_19_loss: 3.1864 - fc0_19_acc: 0.0936 - fc1_19_acc: 0.0772 - fc2_19_acc: 0.0746 - fc3_19_acc: 0.0876 - val_loss: 11.1424 - val_fc0_19_loss: 2.7122 - val_fc1_19_loss: 2.8479 - val_fc2_19_loss: 2.8771 - val_fc3_19_loss: 2.7051 - val_fc0_19_acc: 0.1199 - val_fc1_19_acc: 0.1027 - val_fc2_19_acc: 0.0959 - val_fc3_19_acc: 0.1199\n",
      "Epoch 2/40\n",
      "5546/5546 [==============================] - 50s 9ms/step - loss: 11.2546 - fc0_19_loss: 2.6118 - fc1_19_loss: 2.9257 - fc2_19_loss: 2.9253 - fc3_19_loss: 2.7918 - fc0_19_acc: 0.1567 - fc1_19_acc: 0.1109 - fc2_19_acc: 0.1100 - fc3_19_acc: 0.1268 - val_loss: 10.0368 - val_fc0_19_loss: 2.1673 - val_fc1_19_loss: 2.6118 - val_fc2_19_loss: 2.7213 - val_fc3_19_loss: 2.5364 - val_fc0_19_acc: 0.2260 - val_fc1_19_acc: 0.1370 - val_fc2_19_acc: 0.1370 - val_fc3_19_acc: 0.1541\n",
      "Epoch 3/40\n",
      "5546/5546 [==============================] - 50s 9ms/step - loss: 10.1979 - fc0_19_loss: 2.2443 - fc1_19_loss: 2.7160 - fc2_19_loss: 2.7449 - fc3_19_loss: 2.4928 - fc0_19_acc: 0.2265 - fc1_19_acc: 0.1477 - fc2_19_acc: 0.1378 - fc3_19_acc: 0.1751 - val_loss: 12.9576 - val_fc0_19_loss: 3.1179 - val_fc1_19_loss: 3.1501 - val_fc2_19_loss: 3.0045 - val_fc3_19_loss: 3.6851 - val_fc0_19_acc: 0.0788 - val_fc1_19_acc: 0.0959 - val_fc2_19_acc: 0.1164 - val_fc3_19_acc: 0.0719\n",
      "Epoch 4/40\n",
      "5546/5546 [==============================] - 51s 9ms/step - loss: 9.2679 - fc0_19_loss: 1.9737 - fc1_19_loss: 2.5674 - fc2_19_loss: 2.5443 - fc3_19_loss: 2.1824 - fc0_19_acc: 0.2831 - fc1_19_acc: 0.1702 - fc2_19_acc: 0.1671 - fc3_19_acc: 0.2555 - val_loss: 12.8105 - val_fc0_19_loss: 2.8489 - val_fc1_19_loss: 3.3871 - val_fc2_19_loss: 3.3670 - val_fc3_19_loss: 3.2076 - val_fc0_19_acc: 0.1164 - val_fc1_19_acc: 0.0959 - val_fc2_19_acc: 0.1062 - val_fc3_19_acc: 0.1473\n",
      "Epoch 5/40\n",
      "5546/5546 [==============================] - 51s 9ms/step - loss: 8.2724 - fc0_19_loss: 1.6507 - fc1_19_loss: 2.3637 - fc2_19_loss: 2.3912 - fc3_19_loss: 1.8668 - fc0_19_acc: 0.3884 - fc1_19_acc: 0.2102 - fc2_19_acc: 0.2086 - fc3_19_acc: 0.3534 - val_loss: 14.9533 - val_fc0_19_loss: 4.8275 - val_fc1_19_loss: 3.3509 - val_fc2_19_loss: 3.3494 - val_fc3_19_loss: 3.4255 - val_fc0_19_acc: 0.0377 - val_fc1_19_acc: 0.1027 - val_fc2_19_acc: 0.0959 - val_fc3_19_acc: 0.0959\n",
      "Epoch 6/40\n",
      "5546/5546 [==============================] - 51s 9ms/step - loss: 6.9628 - fc0_19_loss: 1.3074 - fc1_19_loss: 2.0855 - fc2_19_loss: 2.1264 - fc3_19_loss: 1.4435 - fc0_19_acc: 0.5162 - fc1_19_acc: 0.2822 - fc2_19_acc: 0.2780 - fc3_19_acc: 0.5045 - val_loss: 7.3929 - val_fc0_19_loss: 1.4575 - val_fc1_19_loss: 2.3280 - val_fc2_19_loss: 2.1705 - val_fc3_19_loss: 1.4368 - val_fc0_19_acc: 0.4418 - val_fc1_19_acc: 0.2021 - val_fc2_19_acc: 0.2192 - val_fc3_19_acc: 0.4932\n",
      "Epoch 7/40\n",
      "5546/5546 [==============================] - 51s 9ms/step - loss: 5.7055 - fc0_19_loss: 1.0265 - fc1_19_loss: 1.7319 - fc2_19_loss: 1.8288 - fc3_19_loss: 1.1183 - fc0_19_acc: 0.6212 - fc1_19_acc: 0.3889 - fc2_19_acc: 0.3768 - fc3_19_acc: 0.6280 - val_loss: 11.5045 - val_fc0_19_loss: 3.4783 - val_fc1_19_loss: 2.7248 - val_fc2_19_loss: 2.9828 - val_fc3_19_loss: 2.3186 - val_fc0_19_acc: 0.2158 - val_fc1_19_acc: 0.1815 - val_fc2_19_acc: 0.0925 - val_fc3_19_acc: 0.3014\n",
      "Epoch 8/40\n",
      "5546/5546 [==============================] - 51s 9ms/step - loss: 4.2133 - fc0_19_loss: 0.7212 - fc1_19_loss: 1.2823 - fc2_19_loss: 1.4292 - fc3_19_loss: 0.7806 - fc0_19_acc: 0.7418 - fc1_19_acc: 0.5478 - fc2_19_acc: 0.5096 - fc3_19_acc: 0.7510 - val_loss: 15.4504 - val_fc0_19_loss: 4.7033 - val_fc1_19_loss: 3.6242 - val_fc2_19_loss: 3.9506 - val_fc3_19_loss: 3.1723 - val_fc0_19_acc: 0.0342 - val_fc1_19_acc: 0.0993 - val_fc2_19_acc: 0.1096 - val_fc3_19_acc: 0.1781\n",
      "Epoch 9/40\n",
      "5546/5546 [==============================] - 51s 9ms/step - loss: 2.8271 - fc0_19_loss: 0.4746 - fc1_19_loss: 0.8614 - fc2_19_loss: 0.9500 - fc3_19_loss: 0.5411 - fc0_19_acc: 0.8485 - fc1_19_acc: 0.7099 - fc2_19_acc: 0.6973 - fc3_19_acc: 0.8404 - val_loss: 7.2326 - val_fc0_19_loss: 1.8668 - val_fc1_19_loss: 1.7460 - val_fc2_19_loss: 1.8569 - val_fc3_19_loss: 1.7628 - val_fc0_19_acc: 0.3870 - val_fc1_19_acc: 0.4247 - val_fc2_19_acc: 0.3938 - val_fc3_19_acc: 0.4178\n",
      "Epoch 10/40\n",
      "5546/5546 [==============================] - 51s 9ms/step - loss: 1.7637 - fc0_19_loss: 0.2892 - fc1_19_loss: 0.5174 - fc2_19_loss: 0.6026 - fc3_19_loss: 0.3546 - fc0_19_acc: 0.9210 - fc1_19_acc: 0.8494 - fc2_19_acc: 0.8210 - fc3_19_acc: 0.9057 - val_loss: 3.7389 - val_fc0_19_loss: 0.9316 - val_fc1_19_loss: 0.9839 - val_fc2_19_loss: 1.0983 - val_fc3_19_loss: 0.7251 - val_fc0_19_acc: 0.7055 - val_fc1_19_acc: 0.6199 - val_fc2_19_acc: 0.5479 - val_fc3_19_acc: 0.7363\n",
      "Epoch 11/40\n",
      "5546/5546 [==============================] - 51s 9ms/step - loss: 1.1682 - fc0_19_loss: 0.1962 - fc1_19_loss: 0.3278 - fc2_19_loss: 0.3809 - fc3_19_loss: 0.2634 - fc0_19_acc: 0.9519 - fc1_19_acc: 0.9122 - fc2_19_acc: 0.8978 - fc3_19_acc: 0.9335 - val_loss: 1.2817 - val_fc0_19_loss: 0.2825 - val_fc1_19_loss: 0.3808 - val_fc2_19_loss: 0.3910 - val_fc3_19_loss: 0.2274 - val_fc0_19_acc: 0.9452 - val_fc1_19_acc: 0.9075 - val_fc2_19_acc: 0.8973 - val_fc3_19_acc: 0.9384\n",
      "Epoch 12/40\n",
      "5546/5546 [==============================] - 51s 9ms/step - loss: 0.7797 - fc0_19_loss: 0.1294 - fc1_19_loss: 0.2153 - fc2_19_loss: 0.2525 - fc3_19_loss: 0.1826 - fc0_19_acc: 0.9702 - fc1_19_acc: 0.9502 - fc2_19_acc: 0.9376 - fc3_19_acc: 0.9569 - val_loss: 1.0153 - val_fc0_19_loss: 0.2685 - val_fc1_19_loss: 0.2747 - val_fc2_19_loss: 0.3045 - val_fc3_19_loss: 0.1677 - val_fc0_19_acc: 0.9418 - val_fc1_19_acc: 0.9212 - val_fc2_19_acc: 0.8973 - val_fc3_19_acc: 0.9623\n",
      "Epoch 13/40\n",
      "5546/5546 [==============================] - 51s 9ms/step - loss: 0.5849 - fc0_19_loss: 0.0983 - fc1_19_loss: 0.1532 - fc2_19_loss: 0.1825 - fc3_19_loss: 0.1509 - fc0_19_acc: 0.9791 - fc1_19_acc: 0.9661 - fc2_19_acc: 0.9594 - fc3_19_acc: 0.9654 - val_loss: 0.8069 - val_fc0_19_loss: 0.2356 - val_fc1_19_loss: 0.2313 - val_fc2_19_loss: 0.2426 - val_fc3_19_loss: 0.0974 - val_fc0_19_acc: 0.9247 - val_fc1_19_acc: 0.9486 - val_fc2_19_acc: 0.9384 - val_fc3_19_acc: 0.9760\n",
      "Epoch 14/40\n",
      "5546/5546 [==============================] - 51s 9ms/step - loss: 0.4558 - fc0_19_loss: 0.0807 - fc1_19_loss: 0.1190 - fc2_19_loss: 0.1456 - fc3_19_loss: 0.1104 - fc0_19_acc: 0.9827 - fc1_19_acc: 0.9721 - fc2_19_acc: 0.9674 - fc3_19_acc: 0.9791 - val_loss: 0.5211 - val_fc0_19_loss: 0.1204 - val_fc1_19_loss: 0.1262 - val_fc2_19_loss: 0.1289 - val_fc3_19_loss: 0.1456 - val_fc0_19_acc: 0.9760 - val_fc1_19_acc: 0.9795 - val_fc2_19_acc: 0.9589 - val_fc3_19_acc: 0.9658\n",
      "Epoch 15/40\n",
      "5546/5546 [==============================] - 51s 9ms/step - loss: 0.3613 - fc0_19_loss: 0.0672 - fc1_19_loss: 0.0912 - fc2_19_loss: 0.1118 - fc3_19_loss: 0.0910 - fc0_19_acc: 0.9850 - fc1_19_acc: 0.9796 - fc2_19_acc: 0.9735 - fc3_19_acc: 0.9836 - val_loss: 0.2950 - val_fc0_19_loss: 0.0836 - val_fc1_19_loss: 0.1317 - val_fc2_19_loss: 0.0451 - val_fc3_19_loss: 0.0346 - val_fc0_19_acc: 0.9863 - val_fc1_19_acc: 0.9726 - val_fc2_19_acc: 0.9897 - val_fc3_19_acc: 0.9897\n",
      "Epoch 16/40\n",
      "5546/5546 [==============================] - 51s 9ms/step - loss: 0.2806 - fc0_19_loss: 0.0522 - fc1_19_loss: 0.0713 - fc2_19_loss: 0.0846 - fc3_19_loss: 0.0725 - fc0_19_acc: 0.9879 - fc1_19_acc: 0.9852 - fc2_19_acc: 0.9812 - fc3_19_acc: 0.9843 - val_loss: 0.4005 - val_fc0_19_loss: 0.0848 - val_fc1_19_loss: 0.1547 - val_fc2_19_loss: 0.0596 - val_fc3_19_loss: 0.1015 - val_fc0_19_acc: 0.9829 - val_fc1_19_acc: 0.9760 - val_fc2_19_acc: 0.9897 - val_fc3_19_acc: 0.9692\n",
      "Epoch 17/40\n",
      "5546/5546 [==============================] - 59s 11ms/step - loss: 0.2429 - fc0_19_loss: 0.0476 - fc1_19_loss: 0.0578 - fc2_19_loss: 0.0707 - fc3_19_loss: 0.0669 - fc0_19_acc: 0.9899 - fc1_19_acc: 0.9870 - fc2_19_acc: 0.9834 - fc3_19_acc: 0.9859 - val_loss: 0.3304 - val_fc0_19_loss: 0.0987 - val_fc1_19_loss: 0.1375 - val_fc2_19_loss: 0.0574 - val_fc3_19_loss: 0.0368 - val_fc0_19_acc: 0.9863 - val_fc1_19_acc: 0.9795 - val_fc2_19_acc: 0.9932 - val_fc3_19_acc: 0.9932\n"
     ]
    },
    {
     "name": "stdout",
     "output_type": "stream",
     "text": [
      "Epoch 18/40\n",
      "5546/5546 [==============================] - 60s 11ms/step - loss: 0.2107 - fc0_19_loss: 0.0390 - fc1_19_loss: 0.0570 - fc2_19_loss: 0.0593 - fc3_19_loss: 0.0554 - fc0_19_acc: 0.9904 - fc1_19_acc: 0.9868 - fc2_19_acc: 0.9856 - fc3_19_acc: 0.9867 - val_loss: 0.4111 - val_fc0_19_loss: 0.1288 - val_fc1_19_loss: 0.1506 - val_fc2_19_loss: 0.0861 - val_fc3_19_loss: 0.0456 - val_fc0_19_acc: 0.9795 - val_fc1_19_acc: 0.9760 - val_fc2_19_acc: 0.9829 - val_fc3_19_acc: 0.9829\n",
      "Epoch 19/40\n",
      "5546/5546 [==============================] - 62s 11ms/step - loss: 0.1997 - fc0_19_loss: 0.0387 - fc1_19_loss: 0.0461 - fc2_19_loss: 0.0619 - fc3_19_loss: 0.0528 - fc0_19_acc: 0.9904 - fc1_19_acc: 0.9894 - fc2_19_acc: 0.9827 - fc3_19_acc: 0.9872 - val_loss: 0.3222 - val_fc0_19_loss: 0.1044 - val_fc1_19_loss: 0.1272 - val_fc2_19_loss: 0.0408 - val_fc3_19_loss: 0.0498 - val_fc0_19_acc: 0.9795 - val_fc1_19_acc: 0.9795 - val_fc2_19_acc: 0.9932 - val_fc3_19_acc: 0.9932\n",
      "Epoch 20/40\n",
      "5546/5546 [==============================] - 55s 10ms/step - loss: 0.1638 - fc0_19_loss: 0.0306 - fc1_19_loss: 0.0455 - fc2_19_loss: 0.0449 - fc3_19_loss: 0.0428 - fc0_19_acc: 0.9933 - fc1_19_acc: 0.9890 - fc2_19_acc: 0.9897 - fc3_19_acc: 0.9917 - val_loss: 0.4395 - val_fc0_19_loss: 0.1596 - val_fc1_19_loss: 0.1145 - val_fc2_19_loss: 0.0557 - val_fc3_19_loss: 0.1097 - val_fc0_19_acc: 0.9692 - val_fc1_19_acc: 0.9897 - val_fc2_19_acc: 0.9863 - val_fc3_19_acc: 0.9795\n",
      "Epoch 21/40\n",
      "5546/5546 [==============================] - 53s 9ms/step - loss: 0.1387 - fc0_19_loss: 0.0259 - fc1_19_loss: 0.0320 - fc2_19_loss: 0.0442 - fc3_19_loss: 0.0366 - fc0_19_acc: 0.9944 - fc1_19_acc: 0.9935 - fc2_19_acc: 0.9883 - fc3_19_acc: 0.9921 - val_loss: 0.3610 - val_fc0_19_loss: 0.1159 - val_fc1_19_loss: 0.1786 - val_fc2_19_loss: 0.0345 - val_fc3_19_loss: 0.0320 - val_fc0_19_acc: 0.9795 - val_fc1_19_acc: 0.9726 - val_fc2_19_acc: 0.9966 - val_fc3_19_acc: 0.9966\n",
      "Epoch 22/40\n",
      "5546/5546 [==============================] - 53s 9ms/step - loss: 0.1158 - fc0_19_loss: 0.0237 - fc1_19_loss: 0.0304 - fc2_19_loss: 0.0313 - fc3_19_loss: 0.0303 - fc0_19_acc: 0.9944 - fc1_19_acc: 0.9931 - fc2_19_acc: 0.9935 - fc3_19_acc: 0.9939 - val_loss: 0.2706 - val_fc0_19_loss: 0.1172 - val_fc1_19_loss: 0.1037 - val_fc2_19_loss: 0.0183 - val_fc3_19_loss: 0.0314 - val_fc0_19_acc: 0.9795 - val_fc1_19_acc: 0.9795 - val_fc2_19_acc: 0.9966 - val_fc3_19_acc: 0.9932\n",
      "Epoch 23/40\n",
      "5546/5546 [==============================] - 53s 9ms/step - loss: 0.1117 - fc0_19_loss: 0.0270 - fc1_19_loss: 0.0267 - fc2_19_loss: 0.0283 - fc3_19_loss: 0.0297 - fc0_19_acc: 0.9933 - fc1_19_acc: 0.9940 - fc2_19_acc: 0.9937 - fc3_19_acc: 0.9933 - val_loss: 0.3135 - val_fc0_19_loss: 0.1260 - val_fc1_19_loss: 0.1471 - val_fc2_19_loss: 0.0124 - val_fc3_19_loss: 0.0281 - val_fc0_19_acc: 0.9829 - val_fc1_19_acc: 0.9795 - val_fc2_19_acc: 1.0000 - val_fc3_19_acc: 0.9932\n",
      "Epoch 24/40\n",
      "5546/5546 [==============================] - 53s 9ms/step - loss: 0.0893 - fc0_19_loss: 0.0164 - fc1_19_loss: 0.0213 - fc2_19_loss: 0.0250 - fc3_19_loss: 0.0266 - fc0_19_acc: 0.9978 - fc1_19_acc: 0.9962 - fc2_19_acc: 0.9944 - fc3_19_acc: 0.9950 - val_loss: 0.2721 - val_fc0_19_loss: 0.0812 - val_fc1_19_loss: 0.1480 - val_fc2_19_loss: 0.0280 - val_fc3_19_loss: 0.0149 - val_fc0_19_acc: 0.9829 - val_fc1_19_acc: 0.9760 - val_fc2_19_acc: 0.9966 - val_fc3_19_acc: 0.9966\n",
      "Epoch 25/40\n",
      "5546/5546 [==============================] - 53s 10ms/step - loss: 0.0700 - fc0_19_loss: 0.0152 - fc1_19_loss: 0.0184 - fc2_19_loss: 0.0198 - fc3_19_loss: 0.0166 - fc0_19_acc: 0.9968 - fc1_19_acc: 0.9960 - fc2_19_acc: 0.9957 - fc3_19_acc: 0.9960 - val_loss: 0.2857 - val_fc0_19_loss: 0.1185 - val_fc1_19_loss: 0.1293 - val_fc2_19_loss: 0.0195 - val_fc3_19_loss: 0.0183 - val_fc0_19_acc: 0.9863 - val_fc1_19_acc: 0.9863 - val_fc2_19_acc: 0.9966 - val_fc3_19_acc: 0.9966\n",
      "Epoch 26/40\n",
      "5546/5546 [==============================] - 53s 10ms/step - loss: 0.0874 - fc0_19_loss: 0.0189 - fc1_19_loss: 0.0224 - fc2_19_loss: 0.0202 - fc3_19_loss: 0.0258 - fc0_19_acc: 0.9953 - fc1_19_acc: 0.9955 - fc2_19_acc: 0.9944 - fc3_19_acc: 0.9940 - val_loss: 0.3005 - val_fc0_19_loss: 0.0994 - val_fc1_19_loss: 0.1394 - val_fc2_19_loss: 0.0413 - val_fc3_19_loss: 0.0205 - val_fc0_19_acc: 0.9897 - val_fc1_19_acc: 0.9795 - val_fc2_19_acc: 0.9863 - val_fc3_19_acc: 0.9932\n",
      "Epoch 27/40\n",
      "5546/5546 [==============================] - 53s 9ms/step - loss: 0.0815 - fc0_19_loss: 0.0158 - fc1_19_loss: 0.0198 - fc2_19_loss: 0.0247 - fc3_19_loss: 0.0212 - fc0_19_acc: 0.9953 - fc1_19_acc: 0.9959 - fc2_19_acc: 0.9939 - fc3_19_acc: 0.9948 - val_loss: 0.3582 - val_fc0_19_loss: 0.0968 - val_fc1_19_loss: 0.1499 - val_fc2_19_loss: 0.0790 - val_fc3_19_loss: 0.0326 - val_fc0_19_acc: 0.9897 - val_fc1_19_acc: 0.9829 - val_fc2_19_acc: 0.9829 - val_fc3_19_acc: 0.9897\n",
      "Epoch 28/40\n",
      "5546/5546 [==============================] - 53s 9ms/step - loss: 0.0705 - fc0_19_loss: 0.0132 - fc1_19_loss: 0.0172 - fc2_19_loss: 0.0256 - fc3_19_loss: 0.0146 - fc0_19_acc: 0.9975 - fc1_19_acc: 0.9960 - fc2_19_acc: 0.9930 - fc3_19_acc: 0.9962 - val_loss: 0.2867 - val_fc0_19_loss: 0.0879 - val_fc1_19_loss: 0.1558 - val_fc2_19_loss: 0.0173 - val_fc3_19_loss: 0.0257 - val_fc0_19_acc: 0.9897 - val_fc1_19_acc: 0.9795 - val_fc2_19_acc: 0.9932 - val_fc3_19_acc: 0.9932\n",
      "Epoch 29/40\n",
      "5546/5546 [==============================] - 53s 9ms/step - loss: 0.0753 - fc0_19_loss: 0.0170 - fc1_19_loss: 0.0199 - fc2_19_loss: 0.0215 - fc3_19_loss: 0.0170 - fc0_19_acc: 0.9968 - fc1_19_acc: 0.9957 - fc2_19_acc: 0.9942 - fc3_19_acc: 0.9966 - val_loss: 0.3049 - val_fc0_19_loss: 0.1174 - val_fc1_19_loss: 0.1419 - val_fc2_19_loss: 0.0229 - val_fc3_19_loss: 0.0226 - val_fc0_19_acc: 0.9863 - val_fc1_19_acc: 0.9829 - val_fc2_19_acc: 0.9966 - val_fc3_19_acc: 0.9966\n",
      "Epoch 30/40\n",
      "5546/5546 [==============================] - 53s 9ms/step - loss: 0.0548 - fc0_19_loss: 0.0147 - fc1_19_loss: 0.0150 - fc2_19_loss: 0.0111 - fc3_19_loss: 0.0140 - fc0_19_acc: 0.9973 - fc1_19_acc: 0.9973 - fc2_19_acc: 0.9977 - fc3_19_acc: 0.9968 - val_loss: 0.2691 - val_fc0_19_loss: 0.1007 - val_fc1_19_loss: 0.1454 - val_fc2_19_loss: 0.0054 - val_fc3_19_loss: 0.0177 - val_fc0_19_acc: 0.9897 - val_fc1_19_acc: 0.9795 - val_fc2_19_acc: 1.0000 - val_fc3_19_acc: 0.9932\n",
      "Epoch 31/40\n",
      "5546/5546 [==============================] - 53s 9ms/step - loss: 0.0437 - fc0_19_loss: 0.0093 - fc1_19_loss: 0.0109 - fc2_19_loss: 0.0115 - fc3_19_loss: 0.0120 - fc0_19_acc: 0.9982 - fc1_19_acc: 0.9984 - fc2_19_acc: 0.9971 - fc3_19_acc: 0.9971 - val_loss: 0.2755 - val_fc0_19_loss: 0.0847 - val_fc1_19_loss: 0.1430 - val_fc2_19_loss: 0.0119 - val_fc3_19_loss: 0.0359 - val_fc0_19_acc: 0.9897 - val_fc1_19_acc: 0.9795 - val_fc2_19_acc: 0.9966 - val_fc3_19_acc: 0.9897\n",
      "Epoch 32/40\n",
      "5546/5546 [==============================] - 53s 9ms/step - loss: 0.0569 - fc0_19_loss: 0.0130 - fc1_19_loss: 0.0195 - fc2_19_loss: 0.0149 - fc3_19_loss: 0.0095 - fc0_19_acc: 0.9973 - fc1_19_acc: 0.9960 - fc2_19_acc: 0.9950 - fc3_19_acc: 0.9978 - val_loss: 0.3155 - val_fc0_19_loss: 0.1199 - val_fc1_19_loss: 0.1367 - val_fc2_19_loss: 0.0286 - val_fc3_19_loss: 0.0303 - val_fc0_19_acc: 0.9897 - val_fc1_19_acc: 0.9795 - val_fc2_19_acc: 0.9966 - val_fc3_19_acc: 0.9966\n",
      "Epoch 33/40\n",
      "5546/5546 [==============================] - 166s 30ms/step - loss: 0.0464 - fc0_19_loss: 0.0107 - fc1_19_loss: 0.0122 - fc2_19_loss: 0.0115 - fc3_19_loss: 0.0121 - fc0_19_acc: 0.9980 - fc1_19_acc: 0.9975 - fc2_19_acc: 0.9973 - fc3_19_acc: 0.9971 - val_loss: 0.2758 - val_fc0_19_loss: 0.1091 - val_fc1_19_loss: 0.1439 - val_fc2_19_loss: 0.0111 - val_fc3_19_loss: 0.0117 - val_fc0_19_acc: 0.9863 - val_fc1_19_acc: 0.9795 - val_fc2_19_acc: 0.9966 - val_fc3_19_acc: 0.9966\n",
      "Epoch 34/40\n",
      "5546/5546 [==============================] - 170s 31ms/step - loss: 0.0414 - fc0_19_loss: 0.0090 - fc1_19_loss: 0.0116 - fc2_19_loss: 0.0104 - fc3_19_loss: 0.0104 - fc0_19_acc: 0.9984 - fc1_19_acc: 0.9980 - fc2_19_acc: 0.9971 - fc3_19_acc: 0.9969 - val_loss: 0.3090 - val_fc0_19_loss: 0.1346 - val_fc1_19_loss: 0.1507 - val_fc2_19_loss: 0.0027 - val_fc3_19_loss: 0.0211 - val_fc0_19_acc: 0.9863 - val_fc1_19_acc: 0.9829 - val_fc2_19_acc: 1.0000 - val_fc3_19_acc: 0.9932\n",
      "Epoch 35/40\n",
      "5546/5546 [==============================] - 172s 31ms/step - loss: 0.0399 - fc0_19_loss: 0.0096 - fc1_19_loss: 0.0101 - fc2_19_loss: 0.0079 - fc3_19_loss: 0.0123 - fc0_19_acc: 0.9980 - fc1_19_acc: 0.9984 - fc2_19_acc: 0.9989 - fc3_19_acc: 0.9973 - val_loss: 0.3228 - val_fc0_19_loss: 0.1131 - val_fc1_19_loss: 0.1565 - val_fc2_19_loss: 0.0138 - val_fc3_19_loss: 0.0394 - val_fc0_19_acc: 0.9829 - val_fc1_19_acc: 0.9760 - val_fc2_19_acc: 0.9966 - val_fc3_19_acc: 0.9932\n",
      "Epoch 36/40\n",
      "5546/5546 [==============================] - 173s 31ms/step - loss: 0.0458 - fc0_19_loss: 0.0145 - fc1_19_loss: 0.0128 - fc2_19_loss: 0.0101 - fc3_19_loss: 0.0084 - fc0_19_acc: 0.9968 - fc1_19_acc: 0.9973 - fc2_19_acc: 0.9977 - fc3_19_acc: 0.9975 - val_loss: 0.3285 - val_fc0_19_loss: 0.1389 - val_fc1_19_loss: 0.1733 - val_fc2_19_loss: 0.0032 - val_fc3_19_loss: 0.0132 - val_fc0_19_acc: 0.9863 - val_fc1_19_acc: 0.9829 - val_fc2_19_acc: 1.0000 - val_fc3_19_acc: 0.9966\n",
      "Epoch 37/40\n",
      "5546/5546 [==============================] - 171s 31ms/step - loss: 0.0366 - fc0_19_loss: 0.0106 - fc1_19_loss: 0.0110 - fc2_19_loss: 0.0069 - fc3_19_loss: 0.0081 - fc0_19_acc: 0.9978 - fc1_19_acc: 0.9973 - fc2_19_acc: 0.9989 - fc3_19_acc: 0.9977 - val_loss: 0.3531 - val_fc0_19_loss: 0.1212 - val_fc1_19_loss: 0.1649 - val_fc2_19_loss: 0.0255 - val_fc3_19_loss: 0.0415 - val_fc0_19_acc: 0.9897 - val_fc1_19_acc: 0.9795 - val_fc2_19_acc: 0.9932 - val_fc3_19_acc: 0.9897\n",
      "Epoch 38/40\n",
      "5546/5546 [==============================] - 171s 31ms/step - loss: 0.0312 - fc0_19_loss: 0.0080 - fc1_19_loss: 0.0081 - fc2_19_loss: 0.0088 - fc3_19_loss: 0.0063 - fc0_19_acc: 0.9986 - fc1_19_acc: 0.9989 - fc2_19_acc: 0.9977 - fc3_19_acc: 0.9986 - val_loss: 0.3509 - val_fc0_19_loss: 0.1267 - val_fc1_19_loss: 0.1527 - val_fc2_19_loss: 0.0485 - val_fc3_19_loss: 0.0230 - val_fc0_19_acc: 0.9897 - val_fc1_19_acc: 0.9829 - val_fc2_19_acc: 0.9932 - val_fc3_19_acc: 0.9897\n",
      "Epoch 39/40\n",
      "5546/5546 [==============================] - 172s 31ms/step - loss: 0.0301 - fc0_19_loss: 0.0072 - fc1_19_loss: 0.0063 - fc2_19_loss: 0.0086 - fc3_19_loss: 0.0080 - fc0_19_acc: 0.9991 - fc1_19_acc: 0.9995 - fc2_19_acc: 0.9977 - fc3_19_acc: 0.9978 - val_loss: 0.2991 - val_fc0_19_loss: 0.1319 - val_fc1_19_loss: 0.1303 - val_fc2_19_loss: 0.0136 - val_fc3_19_loss: 0.0233 - val_fc0_19_acc: 0.9897 - val_fc1_19_acc: 0.9863 - val_fc2_19_acc: 0.9932 - val_fc3_19_acc: 0.9897\n",
      "Epoch 40/40\n",
      "5546/5546 [==============================] - 172s 31ms/step - loss: 0.0354 - fc0_19_loss: 0.0080 - fc1_19_loss: 0.0095 - fc2_19_loss: 0.0095 - fc3_19_loss: 0.0084 - fc0_19_acc: 0.9987 - fc1_19_acc: 0.9986 - fc2_19_acc: 0.9978 - fc3_19_acc: 0.9977 - val_loss: 0.2990 - val_fc0_19_loss: 0.1008 - val_fc1_19_loss: 0.1524 - val_fc2_19_loss: 0.0292 - val_fc3_19_loss: 0.0166 - val_fc0_19_acc: 0.9897 - val_fc1_19_acc: 0.9829 - val_fc2_19_acc: 0.9932 - val_fc3_19_acc: 0.9966\n"
     ]
    }
   ],
   "source": [
    "train_history = model.fit(\n",
    "    x_train, \n",
    "    [y_train[:, 0, :], y_train[:, 1, :], y_train[:, 2, :], y_train[:, 3, :]],\n",
    "    validation_split = 0.05, \n",
    "    epochs = 40, \n",
    "    batch_size = 32)"
   ]
  },
  {
   "cell_type": "code",
   "execution_count": 11,
   "metadata": {},
   "outputs": [],
   "source": [
    "#其實model.fit本來就會回傳記錄曲線圖\n",
    "def show_train_history(train_history, train):\n",
    "    plt.plot(train_history.history['fc0_19_' + train])\n",
    "    plt.plot(train_history.history['fc1_19_' + train])\n",
    "    plt.plot(train_history.history['fc2_19_' + train])\n",
    "    plt.plot(train_history.history['fc3_19_' + train])\n",
    "    plt.title('Train History')\n",
    "    plt.ylabel('train')\n",
    "    plt.xlabel('Epoch')\n",
    "    plt.legend(['fc0_19_' + train, 'fc1_19_' + train, 'fc2_19_' + train, 'fc3_19_' + train], loc = 'center right')\n",
    "    plt.show()"
   ]
  },
  {
   "cell_type": "code",
   "execution_count": 12,
   "metadata": {
    "scrolled": true
   },
   "outputs": [
    {
     "data": {
      "image/png": "[encoded data removed]",
      "text/plain": [
       "<Figure size 432x288 with 1 Axes>"
      ]
     },
     "metadata": {
      "needs_background": "light"
     },
     "output_type": "display_data"
    }
   ],
   "source": [
    "show_train_history(train_history, 'acc')"
   ]
  },
  {
   "cell_type": "code",
   "execution_count": 13,
   "metadata": {},
   "outputs": [
    {
     "data": {
      "image/png": "[encoded data removed]",
      "text/plain": [
       "<Figure size 432x288 with 1 Axes>"
      ]
     },
     "metadata": {
      "needs_background": "light"
     },
     "output_type": "display_data"
    }
   ],
   "source": [
    "show_train_history(train_history, 'loss')"
   ]
  },
  {
   "cell_type": "code",
   "execution_count": 14,
   "metadata": {},
   "outputs": [],
   "source": [
    "model.save('my_model.h5')"
   ]
  },
  {
   "cell_type": "code",
   "execution_count": 20,
   "metadata": {},
   "outputs": [
    {
     "name": "stdout",
     "output_type": "stream",
     "text": [
      "292/292 [==============================] - 2s 8ms/step\n",
      "Total loss on Testing Set for fc0_19: 0.10080815502721498\n",
      "Total loss on Testing Set for fc1_19: 0.15240124079848524\n",
      "Total loss on Testing Set for fc2_19: 0.02923290952856729\n",
      "Total loss on Testing Set for fc3_19: 0.01655589093949346\n",
      "Accuracy of Testing Set for fc0_19: 0.9897260273972602\n",
      "Accuracy of Testing Set for fc1_19: 0.9828767123287672\n",
      "Accuracy of Testing Set for fc2_19: 0.9931506849315068\n",
      "Accuracy of Testing Set for fc3_19: 0.9965753424657534\n"
     ]
    }
   ],
   "source": [
    "x_test = X_train[5546:X_train.shape[0]] / 255.\n",
    "y_test = Y_tmp[5546:X_train.shape[0]]\n",
    "score = model.evaluate(x_test, [y_test[:, 0, :], y_test[:, 1, :], y_test[:, 2, :], y_test[:, 3, :]], batch_size=32)\n",
    "print('Total loss on Testing Set for fc0_19:', score[1])\n",
    "print('Total loss on Testing Set for fc1_19:', score[2])\n",
    "print('Total loss on Testing Set for fc2_19:', score[3])\n",
    "print('Total loss on Testing Set for fc3_19:', score[4])\n",
    "print('Accuracy of Testing Set for fc0_19:', score[5])\n",
    "print('Accuracy of Testing Set for fc1_19:', score[6])\n",
    "print('Accuracy of Testing Set for fc2_19:', score[7])\n",
    "print('Accuracy of Testing Set for fc3_19:', score[8])"
   ]
  },
  {
   "cell_type": "code",
   "execution_count": 16,
   "metadata": {},
   "outputs": [],
   "source": [
    "def predict_accuracy(model, x_test, y_test):\n",
    "    correct_words = 0\n",
    "    correct_img = 0\n",
    "    \n",
    "    y_predict = model.predict(x_test)\n",
    "    for i in range(x_test.shape[0]):\n",
    "        cnt = 0\n",
    "        for j in range(4):\n",
    "            label = y_predict[j]\n",
    "            #label[i, :]代表第i筆資料的第j個字為各符號的機率\n",
    "            if np.argmax(y_test[i, j, :]) == np.argmax(label[i, :]):\n",
    "                correct_words += 1\n",
    "                cnt += 1\n",
    "        if cnt == 4:\n",
    "            correct_img += 1\n",
    "                \n",
    "    total_words = x_test.shape[0]*4\n",
    "    wrong_words = total_words - correct_words\n",
    "    \n",
    "    return wrong_words, correct_words / total_words, correct_img / x_test.shape[0]"
   ]
  },
  {
   "cell_type": "code",
   "execution_count": 21,
   "metadata": {},
   "outputs": [
    {
     "name": "stdout",
     "output_type": "stream",
     "text": [
      "292 _pictures_total_wrong: 11\n",
      "one word accuracy: 0.990582191780822\n",
      "accuracy: 0.9691780821917808\n"
     ]
    }
   ],
   "source": [
    "wrong_words, word_acc, acc = predict_accuracy(model, x_test, y_test)\n",
    "print(x_test.shape[0], '_pictures_total_wrong:', wrong_words)\n",
    "print('one word accuracy:', word_acc)\n",
    "print('accuracy:', acc)"
   ]
  },
  {
   "cell_type": "code",
   "execution_count": 27,
   "metadata": {},
   "outputs": [],
   "source": [
    "def show_result(model, X_train, x_test, y_test):\n",
    "    dict = {0:'2', 1:'3', 2:'4', 3:'5', 4:'7', 5:'9', 6:'A', 7:'C', 8:'F', 9:'H', 10:'K', 11:'M', 12:'N', 13:'P', 14:'Q', 15:'R', 16:'T', 17:'Y', 18:'Z'}\n",
    "    y_predict = model.predict(x_test[0:40])\n",
    "    #印預測結果\n",
    "    for i in range(40):\n",
    "        print('predict=[ ', end='')\n",
    "        cnt = 0\n",
    "        for j in range(4):\n",
    "            label = y_predict[j]\n",
    "            c = np.argmax(label[i, :])\n",
    "            \n",
    "            if c != np.argmax(y_test[i, j, :]):\n",
    "                cnt += 1\n",
    "            \n",
    "            if j < 3:\n",
    "                print(\"'\" + dict[c] + \"', \", end='')\n",
    "            else:\n",
    "                print(\"'\" + dict[c] + \"']\")\n",
    "        \n",
    "        print('answer=[ ', end='')\n",
    "        for j in range(4):\n",
    "            c = np.argmax(y_test[i, j, :])\n",
    "            if j < 3:\n",
    "                print(\"'\" + dict[c] + \"', \", end='')\n",
    "            else:\n",
    "                print(\"'\" + dict[c] + \"'], \", end='')\n",
    "        print('wrong words =', cnt)\n",
    "    #印預處理結果 \n",
    "    fig = plt.figure(figsize=(30, 10))\n",
    "    for i in range(5):\n",
    "        fig.add_subplot(5, 1, i+1)\n",
    "        plt.imshow(X_train[5546+i].reshape(48, 170))\n",
    "    plt.show()"
   ]
  },
  {
   "cell_type": "code",
   "execution_count": 28,
   "metadata": {},
   "outputs": [
    {
     "name": "stdout",
     "output_type": "stream",
     "text": [
      "predict=[ 'F', 'Z', 'Z', 'Q']\n",
      "answer=[ 'F', 'C', 'Z', 'Q'], wrong words = 1\n",
      "predict=[ 'F', 'H', '5', '5']\n",
      "answer=[ 'F', 'H', '5', '5'], wrong words = 0\n",
      "predict=[ 'F', 'M', '5', '3']\n",
      "answer=[ 'F', 'M', '5', '3'], wrong words = 0\n",
      "predict=[ 'F', 'M', 'M', '7']\n",
      "answer=[ 'F', 'M', 'M', '7'], wrong words = 0\n",
      "predict=[ 'F', 'N', 'K', '9']\n",
      "answer=[ 'F', 'N', 'K', '9'], wrong words = 0\n",
      "predict=[ 'F', 'P', 'M', 'H']\n",
      "answer=[ 'F', 'P', 'M', 'H'], wrong words = 0\n",
      "predict=[ 'F', 'T', '4', '5']\n",
      "answer=[ 'F', 'T', '4', '5'], wrong words = 0\n",
      "predict=[ 'F', 'T', '5', 'A']\n",
      "answer=[ 'F', 'T', '5', 'A'], wrong words = 0\n",
      "predict=[ 'F', 'Y', '2', 'C']\n",
      "answer=[ 'F', 'Y', '2', 'C'], wrong words = 0\n",
      "predict=[ 'F', 'Z', '3', 'K']\n",
      "answer=[ 'F', 'Z', '3', 'K'], wrong words = 0\n",
      "predict=[ 'F', 'Z', 'Q', 'M']\n",
      "answer=[ 'F', 'Z', 'Q', 'M'], wrong words = 0\n",
      "predict=[ 'H', '2', 'H', '7']\n",
      "answer=[ 'H', '2', 'H', '7'], wrong words = 0\n",
      "predict=[ 'H', '5', '3', 'F']\n",
      "answer=[ 'H', '3', '3', 'F'], wrong words = 1\n",
      "predict=[ 'H', '3', 'Z', '3']\n",
      "answer=[ 'H', '3', 'Z', '3'], wrong words = 0\n",
      "predict=[ 'H', '4', 'T', '9']\n",
      "answer=[ 'H', '4', 'T', '9'], wrong words = 0\n",
      "predict=[ 'H', '5', '9', 'P']\n",
      "answer=[ 'H', '5', '9', 'P'], wrong words = 0\n",
      "predict=[ 'H', '5', 'R', 'Q']\n",
      "answer=[ 'H', '5', 'R', 'Q'], wrong words = 0\n",
      "predict=[ 'H', 'C', 'Y', 'C']\n",
      "answer=[ 'H', 'C', 'Y', 'C'], wrong words = 0\n",
      "predict=[ 'H', 'F', 'Z', 'Y']\n",
      "answer=[ 'H', 'F', 'Z', 'Y'], wrong words = 0\n",
      "predict=[ 'H', 'H', 'F', '9']\n",
      "answer=[ 'H', 'H', 'F', '9'], wrong words = 0\n",
      "predict=[ 'H', 'K', 'Q', 'C']\n",
      "answer=[ 'H', 'K', 'Q', 'C'], wrong words = 0\n",
      "predict=[ 'H', 'K', 'T', 'H']\n",
      "answer=[ 'H', 'K', 'T', 'H'], wrong words = 0\n",
      "predict=[ 'H', 'K', 'Y', 'R']\n",
      "answer=[ 'H', 'K', 'Y', 'R'], wrong words = 0\n",
      "predict=[ 'H', 'M', '5', 'Q']\n",
      "answer=[ 'H', 'M', '5', 'Q'], wrong words = 0\n",
      "predict=[ 'H', 'M', '7', '2']\n",
      "answer=[ 'H', 'M', '7', '2'], wrong words = 0\n",
      "predict=[ 'H', 'M', 'Z', '7']\n",
      "answer=[ 'H', 'M', 'Z', '7'], wrong words = 0\n",
      "predict=[ 'H', 'N', '5', 'R']\n",
      "answer=[ 'H', 'N', '5', 'R'], wrong words = 0\n",
      "predict=[ 'H', 'N', '7', 'Z']\n",
      "answer=[ 'H', 'N', '7', 'Z'], wrong words = 0\n",
      "predict=[ 'H', 'N', 'N', 'A']\n",
      "answer=[ 'H', 'N', 'N', 'A'], wrong words = 0\n",
      "predict=[ 'H', 'P', 'Q', '3']\n",
      "answer=[ 'H', 'P', 'Q', '3'], wrong words = 0\n",
      "predict=[ 'H', 'P', 'T', 'P']\n",
      "answer=[ 'H', 'P', 'T', 'P'], wrong words = 0\n",
      "predict=[ 'H', 'Q', '9', '4']\n",
      "answer=[ 'H', 'Q', '9', '4'], wrong words = 0\n",
      "predict=[ 'H', 'Q', 'H', 'H']\n",
      "answer=[ 'H', 'Q', 'H', 'H'], wrong words = 0\n",
      "predict=[ 'H', 'Q', 'H', 'R']\n",
      "answer=[ 'H', 'Q', 'H', 'R'], wrong words = 0\n",
      "predict=[ 'H', 'Q', 'M', 'T']\n",
      "answer=[ 'H', 'Q', 'M', 'T'], wrong words = 0\n",
      "predict=[ 'Q', 'H', 'Z', 'H']\n",
      "answer=[ 'H', 'Q', 'Z', 'H'], wrong words = 2\n",
      "predict=[ 'H', 'R', 'M', '5']\n",
      "answer=[ 'H', 'R', 'M', '5'], wrong words = 0\n",
      "predict=[ 'H', 'Y', 'A', 'N']\n",
      "answer=[ 'H', 'Y', 'A', 'N'], wrong words = 0\n",
      "predict=[ 'H', 'Y', 'P', '2']\n",
      "answer=[ 'H', 'Y', 'P', '2'], wrong words = 0\n",
      "predict=[ 'H', 'Y', 'Q', 'P']\n",
      "answer=[ 'H', 'Y', 'Q', 'P'], wrong words = 0\n"
     ]
    },
    {
     "data": {
      "image/png": "[encoded data removed]",
      "text/plain": [
       "<Figure size 2160x720 with 5 Axes>"
      ]
     },
     "metadata": {
      "needs_background": "light"
     },
     "output_type": "display_data"
    }
   ],
   "source": [
    "show_result(model, X_train, x_test, y_test)"
   ]
  },
  {
   "cell_type": "code",
   "execution_count": null,
   "metadata": {},
   "outputs": [],
   "source": []
  }
 ],
 "metadata": {
  "kernelspec": {
   "display_name": "Python 3",
   "language": "python",
   "name": "python3"
  },
  "language_info": {
   "codemirror_mode": {
    "name": "ipython",
    "version": 3
   },
   "file_extension": ".py",
   "mimetype": "text/x-python",
   "name": "python",
   "nbconvert_exporter": "python",
   "pygments_lexer": "ipython3",
   "version": "3.5.4"
  }
 },
 "nbformat": 4,
 "nbformat_minor": 2
}
