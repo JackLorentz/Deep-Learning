{
 "cells": [
  {
   "cell_type": "code",
   "execution_count": 1,
   "metadata": {},
   "outputs": [
    {
     "name": "stderr",
     "output_type": "stream",
     "text": [
      "Using TensorFlow backend.\n"
     ]
    }
   ],
   "source": [
    "import numpy as np\n",
    "import tensorflow as tf \n",
    "import matplotlib.pyplot as plt\n",
    "%matplotlib inline\n",
    "\n",
    "import cv2\n",
    "import random\n",
    "import keras\n",
    "import time\n",
    "import os\n",
    "\n",
    "from tf_pose import common\n",
    "from tf_pose.estimator import TfPoseEstimator\n",
    "from tf_pose.networks import get_graph_path, model_wh\n",
    "from sklearn import metrics\n",
    "from random import randint\n",
    "\n",
    "from scipy.io import loadmat\n",
    "from keras.models import Sequential\n",
    "from keras.models import Model, load_model"
   ]
  },
  {
   "cell_type": "code",
   "execution_count": 2,
   "metadata": {},
   "outputs": [
    {
     "name": "stderr",
     "output_type": "stream",
     "text": [
      "[2019-06-03 16:37:44,851] [TfPoseEstimator] [INFO] loading graph from C:\\Users\\Eilin\\JackChen\\Final_project\\models\\graph/mobilenet_thin/graph_opt.pb(default size=432x368)\n",
      "2019-06-03 16:37:44,851 INFO loading graph from C:\\Users\\Eilin\\JackChen\\Final_project\\models\\graph/mobilenet_thin/graph_opt.pb(default size=432x368)\n"
     ]
    }
   ],
   "source": [
    "w, h = model_wh('432x368')\n",
    "e = TfPoseEstimator(get_graph_path('mobilenet_thin'), target_size=(432, 368))"
   ]
  },
  {
   "cell_type": "code",
   "execution_count": 3,
   "metadata": {},
   "outputs": [],
   "source": [
    "model = load_model('fall_floor_lstm_v3.h5')#lstm"
   ]
  },
  {
   "cell_type": "code",
   "execution_count": 4,
   "metadata": {},
   "outputs": [],
   "source": [
    "cap = cv2.VideoCapture('./videos/test1.avi')"
   ]
  },
  {
   "cell_type": "code",
   "execution_count": 5,
   "metadata": {},
   "outputs": [],
   "source": [
    "frame_cnt = 0\n",
    "frame_idx = 0\n",
    "#最多就取32幀\n",
    "action_history = []"
   ]
  },
  {
   "cell_type": "code",
   "execution_count": 6,
   "metadata": {},
   "outputs": [
    {
     "name": "stdout",
     "output_type": "stream",
     "text": [
      "The number 0 of frame\n",
      "Read a new frame:  True\n",
      "The number 1 of frame\n",
      "Read a new frame:  True\n",
      "The number 2 of frame\n",
      "Read a new frame:  True\n",
      "The number 3 of frame\n",
      "Read a new frame:  True\n",
      "The number 4 of frame\n",
      "Read a new frame:  True\n",
      "The number 5 of frame\n",
      "Read a new frame:  True\n",
      "The number 6 of frame\n",
      "Read a new frame:  True\n",
      "The number 7 of frame\n",
      "Read a new frame:  True\n",
      "The number 8 of frame\n",
      "Read a new frame:  True\n",
      "The number 9 of frame\n",
      "Read a new frame:  True\n",
      "The number 10 of frame\n",
      "Read a new frame:  True\n",
      "The number 11 of frame\n",
      "Read a new frame:  True\n",
      "The number 12 of frame\n",
      "Read a new frame:  True\n",
      "The number 13 of frame\n",
      "Read a new frame:  True\n",
      "The number 14 of frame\n",
      "Read a new frame:  True\n",
      "The number 15 of frame\n",
      "Read a new frame:  True\n",
      "The number 16 of frame\n",
      "Read a new frame:  True\n",
      "The number 17 of frame\n",
      "Read a new frame:  True\n",
      "The number 18 of frame\n",
      "Read a new frame:  True\n",
      "The number 19 of frame\n",
      "Read a new frame:  True\n",
      "The number 20 of frame\n",
      "Read a new frame:  True\n",
      "The number 21 of frame\n",
      "Read a new frame:  True\n",
      "The number 22 of frame\n",
      "Read a new frame:  True\n",
      "The number 23 of frame\n",
      "Read a new frame:  True\n",
      "The number 24 of frame\n",
      "Read a new frame:  True\n",
      "The number 25 of frame\n",
      "Read a new frame:  True\n",
      "The number 26 of frame\n",
      "Read a new frame:  True\n",
      "The number 27 of frame\n",
      "Read a new frame:  True\n",
      "The number 28 of frame\n",
      "Read a new frame:  True\n",
      "The number 29 of frame\n",
      "Read a new frame:  True\n",
      "The number 30 of frame\n",
      "Read a new frame:  True\n",
      "The number 31 of frame\n",
      "Read a new frame:  True\n",
      "Predict: [[7.3913680e-03 9.8566618e-03 9.8264498e-01 1.0703907e-04]]\n",
      "State: Dangerous\n",
      "The number 0 of frame\n",
      "Read a new frame:  True\n",
      "Predict: [[1.1138829e-02 4.7351085e-03 9.8396343e-01 1.6266500e-04]]\n",
      "State: Dangerous\n",
      "The number 0 of frame\n",
      "Read a new frame:  True\n",
      "Predict: [[2.8824024e-02 6.3017765e-03 9.6460873e-01 2.6556468e-04]]\n",
      "State: Dangerous\n",
      "The number 0 of frame\n",
      "Read a new frame:  True\n",
      "Predict: [[7.3095173e-01 2.2153236e-02 2.4640173e-01 4.9334083e-04]]\n",
      "State: Safe\n",
      "The number 0 of frame\n",
      "Read a new frame:  True\n",
      "Predict: [[0.4458295  0.01860472 0.53404087 0.00152493]]\n",
      "State: Dangerous\n",
      "The number 0 of frame\n",
      "Read a new frame:  True\n",
      "Predict: [[0.9418147  0.03681103 0.01689531 0.00447895]]\n",
      "State: Safe\n",
      "The number 0 of frame\n",
      "Read a new frame:  True\n",
      "Predict: [[0.6454848  0.17935674 0.11895643 0.05620205]]\n",
      "State: Safe\n",
      "The number 0 of frame\n",
      "Read a new frame:  True\n",
      "Predict: [[0.5390605  0.22863078 0.16976881 0.06253994]]\n",
      "State: Safe\n",
      "The number 0 of frame\n",
      "Read a new frame:  True\n",
      "Predict: [[0.60404307 0.21399854 0.14788923 0.03406918]]\n",
      "State: Safe\n",
      "The number 0 of frame\n",
      "Read a new frame:  True\n",
      "Predict: [[0.739908   0.07977087 0.16807872 0.01224246]]\n",
      "State: Safe\n",
      "The number 0 of frame\n",
      "Read a new frame:  True\n",
      "Predict: [[0.6920491  0.06651662 0.23422496 0.00720938]]\n",
      "State: Safe\n",
      "The number 0 of frame\n",
      "Read a new frame:  True\n",
      "Predict: [[0.69054544 0.06780648 0.23648411 0.00516396]]\n",
      "State: Safe\n",
      "The number 0 of frame\n",
      "Read a new frame:  True\n",
      "Predict: [[0.7419053  0.07862003 0.17468311 0.00479159]]\n",
      "State: Safe\n",
      "The number 0 of frame\n",
      "Read a new frame:  True\n",
      "Predict: [[0.6706757  0.0962951  0.07888209 0.15414703]]\n",
      "State: Safe\n",
      "The number 0 of frame\n",
      "Read a new frame:  False\n"
     ]
    }
   ],
   "source": [
    "cap.set(cv2.CAP_PROP_POS_MSEC, (frame_cnt*85))#可擷取到32個frames\n",
    "ret_val, image = cap.read()\n",
    "while ret_val:\n",
    "    if frame_idx > 31:\n",
    "        action_predict = np.zeros([1, 32, 36])\n",
    "        start_idx = frame_idx - 32\n",
    "        for i in range(32):\n",
    "            action_predict[0, i, :] = action_history[start_idx+i]\n",
    "        result = model.predict(action_predict)\n",
    "        print('Predict:', result)\n",
    "        c = np.argmax(result)\n",
    "        if c < 2:\n",
    "            print('State: Safe')\n",
    "        else:\n",
    "            print('State: Dangerous')\n",
    "        frame_cnt = 0\n",
    "    \n",
    "    humans = e.inference(image, resize_to_default=(w > 0 and h > 0), upsample_size=4.0)\n",
    "    action = np.zeros([36,])\n",
    "    if humans:\n",
    "        width, height, channel = image.shape\n",
    "        for part_idx in humans[0].body_parts:\n",
    "            action[part_idx*2] = humans[0].body_parts[part_idx].x*width + 0.5\n",
    "            action[part_idx*2+1] = humans[0].body_parts[part_idx].y*height + 0.5\n",
    "    action_history.append(action)\n",
    "        \n",
    "    image = TfPoseEstimator.draw_humans(image, humans, imgcopy=False)\n",
    "    ret_val, image = cap.read()\n",
    "    print(\"The number\", frame_cnt, \"of frame\")\n",
    "    print('Read a new frame: ', ret_val)\n",
    "    frame_cnt += 1\n",
    "    frame_idx += 1\n",
    "    \n",
    "cap.release()"
   ]
  },
  {
   "cell_type": "code",
   "execution_count": null,
   "metadata": {},
   "outputs": [],
   "source": []
  }
 ],
 "metadata": {
  "kernelspec": {
   "display_name": "Python 3",
   "language": "python",
   "name": "python3"
  },
  "language_info": {
   "codemirror_mode": {
    "name": "ipython",
    "version": 3
   },
   "file_extension": ".py",
   "mimetype": "text/x-python",
   "name": "python",
   "nbconvert_exporter": "python",
   "pygments_lexer": "ipython3",
   "version": "3.5.4"
  }
 },
 "nbformat": 4,
 "nbformat_minor": 2
}
