{
 "cells": [
  {
   "cell_type": "code",
   "execution_count": 1,
   "metadata": {},
   "outputs": [],
   "source": [
    "import numpy as np\n",
    "from emo_utils import *\n",
    "import emoji\n",
    "import matplotlib.pyplot as plt\n",
    "\n",
    "get_ipython().run_line_magic('matplotlib', 'inline')"
   ]
  },
  {
   "cell_type": "code",
   "execution_count": 2,
   "metadata": {},
   "outputs": [],
   "source": [
    "X_train, Y_train = read_csv('data/train_emoji.csv')\n",
    "X_test, Y_test = read_csv('data/tesss.csv')"
   ]
  },
  {
   "cell_type": "code",
   "execution_count": 3,
   "metadata": {},
   "outputs": [],
   "source": [
    "maxLen = len(max(X_train, key=len).split())"
   ]
  },
  {
   "cell_type": "code",
   "execution_count": 4,
   "metadata": {},
   "outputs": [
    {
     "data": {
      "text/plain": [
       "10"
      ]
     },
     "execution_count": 4,
     "metadata": {},
     "output_type": "execute_result"
    }
   ],
   "source": [
    "maxLen"
   ]
  },
  {
   "cell_type": "code",
   "execution_count": 5,
   "metadata": {},
   "outputs": [
    {
     "name": "stdout",
     "output_type": "stream",
     "text": [
      "I am proud of your achievements 😄\n"
     ]
    }
   ],
   "source": [
    "index = 1\n",
    "print(X_train[index], label_to_emoji(Y_train[index]))"
   ]
  },
  {
   "cell_type": "code",
   "execution_count": 6,
   "metadata": {},
   "outputs": [],
   "source": [
    "Y_oh_train = convert_to_one_hot(Y_train, C = 5)\n",
    "Y_oh_test = convert_to_one_hot(Y_test, C = 5)"
   ]
  },
  {
   "cell_type": "code",
   "execution_count": 7,
   "metadata": {},
   "outputs": [
    {
     "name": "stdout",
     "output_type": "stream",
     "text": [
      "0 is converted into one hot [1. 0. 0. 0. 0.]\n"
     ]
    }
   ],
   "source": [
    "index = 50\n",
    "print(Y_train[index], \"is converted into one hot\", Y_oh_train[index])"
   ]
  },
  {
   "cell_type": "code",
   "execution_count": 8,
   "metadata": {},
   "outputs": [],
   "source": [
    "word_to_index, index_to_word, word_to_vec_map = read_glove_vecs('data/glove.6B.50d.txt')"
   ]
  },
  {
   "cell_type": "code",
   "execution_count": 9,
   "metadata": {},
   "outputs": [
    {
     "name": "stdout",
     "output_type": "stream",
     "text": [
      "the index of cucumber in the vocabulary is 113317\n",
      "the 289846th word in the vocabulary is potatos\n"
     ]
    }
   ],
   "source": [
    "word = \"cucumber\"\n",
    "index = 289846\n",
    "print(\"the index of\", word, \"in the vocabulary is\", word_to_index[word])\n",
    "print(\"the\", str(index) + \"th word in the vocabulary is\", index_to_word[index])"
   ]
  },
  {
   "cell_type": "code",
   "execution_count": 10,
   "metadata": {},
   "outputs": [],
   "source": [
    "# GRADED FUNCTION: sentence_to_avg\n",
    "\n",
    "def sentence_to_avg(sentence, word_to_vec_map):\n",
    "    \"\"\"\n",
    "    Converts a sentence (string) into a list of words (strings). Extracts the GloVe representation of each word\n",
    "    and averages its value into a single vector encoding the meaning of the sentence.\n",
    "    \n",
    "    Arguments:\n",
    "    sentence -- string, one training example from X\n",
    "    word_to_vec_map -- dictionary mapping every word in a vocabulary into its 50-dimensional vector representation\n",
    "    \n",
    "    Returns:\n",
    "    avg -- average vector encoding information about the sentence, numpy-array of shape (50,)\n",
    "    \"\"\"\n",
    "    \n",
    "    ### START CODE HERE ###\n",
    "    # Step 1: Split sentence into list of lower case words (≈ 1 line)\n",
    "    words = (sentence.lower()).split()\n",
    "\n",
    "    # Initialize the average word vector, should have the same shape as your word vectors.\n",
    "    avg = np.zeros((50,))\n",
    "    \n",
    "    # Step 2: average the word vectors. You can loop over the words in the list \"words\".\n",
    "    for w in words:\n",
    "        avg += word_to_vec_map[w]\n",
    "    avg = avg / len(words)\n",
    "    \n",
    "    ### END CODE HERE ###\n",
    "    \n",
    "    return avg"
   ]
  },
  {
   "cell_type": "code",
   "execution_count": 11,
   "metadata": {},
   "outputs": [
    {
     "name": "stdout",
     "output_type": "stream",
     "text": [
      "avg =  [-0.008005    0.56370833 -0.50427333  0.258865    0.55131103  0.03104983\n",
      " -0.21013718  0.16893933 -0.09590267  0.141784   -0.15708967  0.18525867\n",
      "  0.6495785   0.38371117  0.21102167  0.11301667  0.02613967  0.26037767\n",
      "  0.05820667 -0.01578167 -0.12078833 -0.02471267  0.4128455   0.5152061\n",
      "  0.38756167 -0.898661   -0.535145    0.33501167  0.68806933 -0.2156265\n",
      "  1.797155    0.10476933 -0.36775333  0.750785    0.10282583  0.348925\n",
      " -0.27262833  0.66768    -0.10706167 -0.283635    0.59580117  0.28747333\n",
      " -0.3366635   0.23393817  0.34349183  0.178405    0.1166155  -0.076433\n",
      "  0.1445417   0.09808667]\n"
     ]
    }
   ],
   "source": [
    "avg = sentence_to_avg(\"Morrocan couscous is my favorite dish\", word_to_vec_map)\n",
    "print(\"avg = \", avg)"
   ]
  },
  {
   "cell_type": "code",
   "execution_count": 12,
   "metadata": {},
   "outputs": [],
   "source": [
    "# GRADED FUNCTION: model\n",
    "\n",
    "def model(X, Y, word_to_vec_map, learning_rate = 0.01, num_iterations = 400):\n",
    "    \"\"\"\n",
    "    Model to train word vector representations in numpy.\n",
    "    \n",
    "    Arguments:\n",
    "    X -- input data, numpy array of sentences as strings, of shape (m, 1)\n",
    "    Y -- labels, numpy array of integers between 0 and 7, numpy-array of shape (m, 1)\n",
    "    word_to_vec_map -- dictionary mapping every word in a vocabulary into its 50-dimensional vector representation\n",
    "    learning_rate -- learning_rate for the stochastic gradient descent algorithm\n",
    "    num_iterations -- number of iterations\n",
    "    \n",
    "    Returns:\n",
    "    pred -- vector of predictions, numpy-array of shape (m, 1)\n",
    "    W -- weight matrix of the softmax layer, of shape (n_y, n_h)\n",
    "    b -- bias of the softmax layer, of shape (n_y,)\n",
    "    \"\"\"\n",
    "    \n",
    "    np.random.seed(1)\n",
    "\n",
    "    # Define number of training examples\n",
    "    m = Y.shape[0]                          # number of training examples\n",
    "    n_y = 5                                 # number of classes  \n",
    "    n_h = 50                                # dimensions of the GloVe vectors \n",
    "    \n",
    "    # Initialize parameters using Xavier initialization\n",
    "    W = np.random.randn(n_y, n_h) / np.sqrt(n_h)\n",
    "    b = np.zeros((n_y,))\n",
    "    \n",
    "    # Convert Y to Y_onehot with n_y classes\n",
    "    Y_oh = convert_to_one_hot(Y, C = n_y) \n",
    "    \n",
    "    # Optimization loop\n",
    "    for t in range(num_iterations):                       # Loop over the number of iterations\n",
    "        for i in range(m):                                # Loop over the training examples\n",
    "            \n",
    "            ### START CODE HERE ### (≈ 4 lines of code)\n",
    "            # Average the word vectors of the words from the j'th training example\n",
    "            avg = sentence_to_avg(X[i], word_to_vec_map)\n",
    "\n",
    "            # Forward propagate the avg through the softmax layer\n",
    "            z = W.dot(avg) + b\n",
    "            a = softmax(z)\n",
    "\n",
    "            # Compute cost using the j'th training label's one hot representation and \"A\" (the output of the softmax)\n",
    "            cost = -np.sum(Y_oh[i] * np.log(a))\n",
    "            ### END CODE HERE ###\n",
    "            \n",
    "            # Compute gradients \n",
    "            dz = a - Y_oh[i]\n",
    "            dW = np.dot(dz.reshape(n_y,1), avg.reshape(1, n_h))\n",
    "            db = dz\n",
    "\n",
    "            # Update parameters with Stochastic Gradient Descent\n",
    "            W = W - learning_rate * dW\n",
    "            b = b - learning_rate * db\n",
    "        \n",
    "        if t % 100 == 0:\n",
    "            print(\"Epoch: \" + str(t) + \" --- cost = \" + str(cost))\n",
    "            pred = predict(X, Y, W, b, word_to_vec_map)\n",
    "\n",
    "    return pred, W, b"
   ]
  },
  {
   "cell_type": "code",
   "execution_count": 13,
   "metadata": {},
   "outputs": [
    {
     "name": "stdout",
     "output_type": "stream",
     "text": [
      "(132,)\n",
      "(132,)\n",
      "(132, 5)\n",
      "never talk to me again\n",
      "<class 'numpy.ndarray'>\n",
      "(20,)\n",
      "(20,)\n",
      "(132, 5)\n",
      "<class 'numpy.ndarray'>\n"
     ]
    }
   ],
   "source": [
    "print(X_train.shape)\n",
    "print(Y_train.shape)\n",
    "print(np.eye(5)[Y_train.reshape(-1)].shape)\n",
    "print(X_train[0])\n",
    "print(type(X_train))\n",
    "Y = np.asarray([5,0,0,5, 4, 4, 4, 6, 6, 4, 1, 1, 5, 6, 6, 3, 6, 3, 4, 4])\n",
    "print(Y.shape)\n",
    "\n",
    "X = np.asarray(['I am going to the bar tonight', 'I love you', 'miss you my dear',\n",
    " 'Lets go party and drinks','Congrats on the new job','Congratulations',\n",
    " 'I am so happy for you', 'Why are you feeling bad', 'What is wrong with you',\n",
    " 'You totally deserve this prize', 'Let us go play football',\n",
    " 'Are you down for football this afternoon', 'Work hard play harder',\n",
    " 'It is suprising how people can be dumb sometimes',\n",
    " 'I am very disappointed','It is the best day in my life',\n",
    " 'I think I will end up alone','My life is so boring','Good job',\n",
    " 'Great so awesome'])\n",
    "\n",
    "print(X.shape)\n",
    "print(np.eye(5)[Y_train.reshape(-1)].shape)\n",
    "print(type(X_train))"
   ]
  },
  {
   "cell_type": "code",
   "execution_count": 14,
   "metadata": {},
   "outputs": [],
   "source": [
    "#pred, W, b = model(X_train, Y_train, word_to_vec_map)\n",
    "#print(pred)"
   ]
  },
  {
   "cell_type": "code",
   "execution_count": 15,
   "metadata": {},
   "outputs": [],
   "source": [
    "#print(\"Training set:\")\n",
    "#pred_train = predict(X_train, Y_train, W, b, word_to_vec_map)\n",
    "#print('Test set:')\n",
    "#pred_test = predict(X_test, Y_test, W, b, word_to_vec_map)"
   ]
  },
  {
   "cell_type": "code",
   "execution_count": 16,
   "metadata": {},
   "outputs": [],
   "source": [
    "#X_my_sentences = np.array([\"i adore you\", \"i love you\", \"funny lol\", \"lets play with a ball\", \"food is ready\", \"you are not happy\"])\n",
    "#Y_my_labels = np.array([[0], [0], [2], [1], [4],[3]])\n",
    "\n",
    "#pred = predict(X_my_sentences, Y_my_labels , W, b, word_to_vec_map)\n",
    "#print_predictions(X_my_sentences, pred)"
   ]
  },
  {
   "cell_type": "code",
   "execution_count": 17,
   "metadata": {},
   "outputs": [
    {
     "name": "stderr",
     "output_type": "stream",
     "text": [
      "Using TensorFlow backend.\n"
     ]
    }
   ],
   "source": [
    "import numpy as np\n",
    "np.random.seed(0)\n",
    "from keras.models import Model\n",
    "from keras.layers.wrappers import Bidirectional\n",
    "from keras.layers import Dense, Input, Dropout, LSTM, Activation, BatchNormalization, TimeDistributed\n",
    "from keras import initializers, regularizers\n",
    "from keras.layers.embeddings import Embedding\n",
    "from keras.preprocessing import sequence\n",
    "np.random.seed(1)"
   ]
  },
  {
   "cell_type": "code",
   "execution_count": 18,
   "metadata": {},
   "outputs": [],
   "source": [
    "from keras.initializers import glorot_uniform"
   ]
  },
  {
   "cell_type": "code",
   "execution_count": 19,
   "metadata": {},
   "outputs": [],
   "source": [
    "# GRADED FUNCTION: sentences_to_indices\n",
    "\n",
    "def sentences_to_indices(X, word_to_index, max_len):\n",
    "    \"\"\"\n",
    "    Converts an array of sentences (strings) into an array of indices corresponding to words in the sentences.\n",
    "    The output shape should be such that it can be given to `Embedding()` (described in Figure 4). \n",
    "    \n",
    "    Arguments:\n",
    "    X -- array of sentences (strings), of shape (m, 1)\n",
    "    word_to_index -- a dictionary containing the each word mapped to its index\n",
    "    max_len -- maximum number of words in a sentence. You can assume every sentence in X is no longer than this. \n",
    "    \n",
    "    Returns:\n",
    "    X_indices -- array of indices corresponding to words in the sentences from X, of shape (m, max_len)\n",
    "    \"\"\"\n",
    "    \n",
    "    m = X.shape[0]                                   # number of training examples\n",
    "    \n",
    "    ### START CODE HERE ###\n",
    "    # Initialize X_indices as a numpy matrix of zeros and the correct shape\n",
    "    X_indices = np.zeros([m, max_len])\n",
    "    \n",
    "    for i in range(m):                               # loop over training examples\n",
    "        \n",
    "        # Convert the ith training sentence in lower case and split is into words. You should get a list of words.\n",
    "        sentence_words = (X[i].lower()).split()\n",
    "        \n",
    "        # Initialize j to 0\n",
    "        j = 0\n",
    "        \n",
    "        # Loop over the words of sentence_words\n",
    "        for w in sentence_words:\n",
    "            \n",
    "            # Set the (i,j)th entry of X_indices to the index of the correct word.\n",
    "            X_indices[i, j] = word_to_index[w]\n",
    "            # Increment j to j + 1\n",
    "            j = j + 1\n",
    "            \n",
    "    ### END CODE HERE ###\n",
    "    \n",
    "    return X_indices"
   ]
  },
  {
   "cell_type": "code",
   "execution_count": 20,
   "metadata": {},
   "outputs": [
    {
     "name": "stdout",
     "output_type": "stream",
     "text": [
      "X1 = ['funny lol' 'lets play baseball' 'food is ready for you']\n",
      "X1_indices = [[155345. 225122.      0.      0.      0.]\n",
      " [220930. 286375.  69714.      0.      0.]\n",
      " [151204. 192973. 302254. 151349. 394475.]]\n"
     ]
    }
   ],
   "source": [
    "X1 = np.array([\"funny lol\", \"lets play baseball\", \"food is ready for you\"])\n",
    "X1_indices = sentences_to_indices(X1,word_to_index, max_len = 5)\n",
    "print(\"X1 =\", X1)\n",
    "print(\"X1_indices =\", X1_indices)"
   ]
  },
  {
   "cell_type": "code",
   "execution_count": 21,
   "metadata": {},
   "outputs": [],
   "source": [
    "# GRADED FUNCTION: pretrained_embedding_layer\n",
    "\n",
    "def pretrained_embedding_layer(word_to_vec_map, word_to_index):\n",
    "    \"\"\"\n",
    "    Creates a Keras Embedding() layer and loads in pre-trained GloVe 50-dimensional vectors.\n",
    "    \n",
    "    Arguments:\n",
    "    word_to_vec_map -- dictionary mapping words to their GloVe vector representation.\n",
    "    word_to_index -- dictionary mapping from words to their indices in the vocabulary (400,001 words)\n",
    "\n",
    "    Returns:\n",
    "    embedding_layer -- pretrained layer Keras instance\n",
    "    \"\"\"\n",
    "    \n",
    "    vocab_len = len(word_to_index) + 1                  # adding 1 to fit Keras embedding (requirement)\n",
    "    emb_dim = word_to_vec_map[\"cucumber\"].shape[0]      # define dimensionality of your GloVe word vectors (= 50)\n",
    "    \n",
    "    ### START CODE HERE ###\n",
    "    # Initialize the embedding matrix as a numpy array of zeros of shape (vocab_len, dimensions of word vectors = emb_dim)\n",
    "    emb_matrix = np.zeros([vocab_len, emb_dim])\n",
    "    \n",
    "    # Set each row \"index\" of the embedding matrix to be the word vector representation of the \"index\"th word of the vocabulary\n",
    "    for word, index in word_to_index.items():\n",
    "        emb_matrix[index, :] = word_to_vec_map[word]\n",
    "\n",
    "    # Define Keras embedding layer with the correct output/input sizes, make it trainable.\n",
    "    # Use Embedding(...). Make sure to set trainable=False.\n",
    "    embedding_layer = Embedding(vocab_len, emb_dim, trainable=False)\n",
    "    ### END CODE HERE ###\n",
    "\n",
    "    # Build the embedding layer, it is required before setting the weights of the embedding layer. Do not modify the \"None\".\n",
    "    embedding_layer.build((None,))\n",
    "    \n",
    "    # Set the weights of the embedding layer to the embedding matrix. Your layer is now pretrained.\n",
    "    embedding_layer.set_weights([emb_matrix])\n",
    "    \n",
    "    return embedding_layer"
   ]
  },
  {
   "cell_type": "code",
   "execution_count": 22,
   "metadata": {},
   "outputs": [
    {
     "name": "stdout",
     "output_type": "stream",
     "text": [
      "weights[0][1][3] = -0.3403\n"
     ]
    }
   ],
   "source": [
    "embedding_layer = pretrained_embedding_layer(word_to_vec_map, word_to_index)\n",
    "print(\"weights[0][1][3] =\", embedding_layer.get_weights()[0][1][3])"
   ]
  },
  {
   "cell_type": "code",
   "execution_count": 23,
   "metadata": {},
   "outputs": [],
   "source": [
    "def Emojify_V2(input_shape, word_to_vec_map, word_to_index):\n",
    "    \"\"\"\n",
    "    Function creating the Emojify-v2 model's graph.\n",
    "    \n",
    "    Arguments:\n",
    "    input_shape -- shape of the input, usually (max_len,)\n",
    "    word_to_vec_map -- dictionary mapping every word in a vocabulary into its 50-dimensional vector representation\n",
    "    word_to_index -- dictionary mapping from words to their indices in the vocabulary (400,001 words)\n",
    "\n",
    "    Returns:\n",
    "    model -- a model instance in Keras\n",
    "    \"\"\"\n",
    "    \n",
    "    ### START CODE HERE ###\n",
    "    # Define sentence_indices as the input of the graph, it should be of shape input_shape and dtype 'int32' (as it contains indices).\n",
    "    sentence_indices = Input(input_shape, dtype='int32')\n",
    "    \n",
    "    # Create the embedding layer pretrained with GloVe Vectors (≈1 line)\n",
    "    embedding_layer = pretrained_embedding_layer(word_to_vec_map, word_to_index)\n",
    "    \n",
    "    # Propagate sentence_indices through your embedding layer, you get back the embeddings\n",
    "    embeddings = embedding_layer(sentence_indices)   \n",
    "    \n",
    "    # Propagate the embeddings through an LSTM layer with 128-dimensional hidden state\n",
    "    # Be careful, the returned output should be a batch of sequences.\n",
    "    X = LSTM(128,  activity_regularizer=regularizers.l2(0.001), return_sequences=True)(embeddings)\n",
    "    #X = Bidirectional(LSTM(20,  activity_regularizer=regularizers.l2(0.001), return_sequences=True))(embeddings)\n",
    "    # Add dropout with a probability of 0.5\n",
    "    X = Dropout(0.5)(X)\n",
    "    # Propagate X trough another LSTM layer with 128-dimensional hidden state\n",
    "    # Be careful, the returned output should be a single hidden state, not a batch of sequences.\n",
    "    X = LSTM(128,  activity_regularizer=regularizers.l2(0.001), return_sequences=False)(X)\n",
    "    #X = Bidirectional(LSTM(20,  activity_regularizer=regularizers.l2(0.001), return_sequences=False))(X)\n",
    "    # Add dropout with a probability of 0.5\n",
    "    X = Dropout(0.5)(X)\n",
    "    # Propagate X through a Dense layer with softmax activation to get back a batch of 5-dimensional vectors.\n",
    "    X = Dense(5)(X)\n",
    "    # Add a softmax activation\n",
    "    X = Activation('softmax')(X)\n",
    "    \n",
    "    # Create Model instance which converts sentence_indices into X.\n",
    "    model = Model(inputs = sentence_indices, outputs = X, name='Emojify_V2')\n",
    "    \n",
    "    ### END CODE HERE ###\n",
    "    \n",
    "    return model"
   ]
  },
  {
   "cell_type": "code",
   "execution_count": 24,
   "metadata": {},
   "outputs": [
    {
     "name": "stdout",
     "output_type": "stream",
     "text": [
      "_________________________________________________________________\n",
      "Layer (type)                 Output Shape              Param #   \n",
      "=================================================================\n",
      "input_1 (InputLayer)         (None, 10)                0         \n",
      "_________________________________________________________________\n",
      "embedding_2 (Embedding)      (None, 10, 50)            20000050  \n",
      "_________________________________________________________________\n",
      "lstm_1 (LSTM)                (None, 10, 128)           91648     \n",
      "_________________________________________________________________\n",
      "dropout_1 (Dropout)          (None, 10, 128)           0         \n",
      "_________________________________________________________________\n",
      "lstm_2 (LSTM)                (None, 128)               131584    \n",
      "_________________________________________________________________\n",
      "dropout_2 (Dropout)          (None, 128)               0         \n",
      "_________________________________________________________________\n",
      "dense_1 (Dense)              (None, 5)                 645       \n",
      "_________________________________________________________________\n",
      "activation_1 (Activation)    (None, 5)                 0         \n",
      "=================================================================\n",
      "Total params: 20,223,927\n",
      "Trainable params: 223,877\n",
      "Non-trainable params: 20,000,050\n",
      "_________________________________________________________________\n"
     ]
    }
   ],
   "source": [
    "model = Emojify_V2((maxLen,), word_to_vec_map, word_to_index)\n",
    "model.summary()"
   ]
  },
  {
   "cell_type": "code",
   "execution_count": 25,
   "metadata": {},
   "outputs": [],
   "source": [
    "model.compile(loss='categorical_crossentropy', optimizer='RMSprop', metrics=['accuracy'])"
   ]
  },
  {
   "cell_type": "code",
   "execution_count": 26,
   "metadata": {},
   "outputs": [],
   "source": [
    "X_train_indices = sentences_to_indices(X_train, word_to_index, maxLen)\n",
    "Y_train_oh = convert_to_one_hot(Y_train, C = 5)"
   ]
  },
  {
   "cell_type": "code",
   "execution_count": 27,
   "metadata": {},
   "outputs": [
    {
     "name": "stdout",
     "output_type": "stream",
     "text": [
      "Epoch 1/100\n",
      "132/132 [==============================] - 2s 14ms/step - loss: 1.8870 - acc: 0.2121\n",
      "Epoch 2/100\n",
      "132/132 [==============================] - 0s 1ms/step - loss: 1.6751 - acc: 0.3864\n",
      "Epoch 3/100\n",
      "132/132 [==============================] - 0s 1ms/step - loss: 1.5573 - acc: 0.4621\n",
      "Epoch 4/100\n",
      "132/132 [==============================] - 0s 1ms/step - loss: 1.4253 - acc: 0.6364\n",
      "Epoch 5/100\n",
      "132/132 [==============================] - 0s 1ms/step - loss: 1.3516 - acc: 0.6364\n",
      "Epoch 6/100\n",
      "132/132 [==============================] - 0s 1ms/step - loss: 1.1817 - acc: 0.6970\n",
      "Epoch 7/100\n",
      "132/132 [==============================] - 0s 1ms/step - loss: 1.1138 - acc: 0.7121\n",
      "Epoch 8/100\n",
      "132/132 [==============================] - 0s 1ms/step - loss: 1.0163 - acc: 0.7803\n",
      "Epoch 9/100\n",
      "132/132 [==============================] - 0s 1ms/step - loss: 0.9075 - acc: 0.8106\n",
      "Epoch 10/100\n",
      "132/132 [==============================] - 0s 1ms/step - loss: 0.8638 - acc: 0.8182\n",
      "Epoch 11/100\n",
      "132/132 [==============================] - 0s 1ms/step - loss: 0.9951 - acc: 0.7727\n",
      "Epoch 12/100\n",
      "132/132 [==============================] - 0s 1ms/step - loss: 0.7763 - acc: 0.8864\n",
      "Epoch 13/100\n",
      "132/132 [==============================] - 0s 1ms/step - loss: 0.8011 - acc: 0.8182\n",
      "Epoch 14/100\n",
      "132/132 [==============================] - 0s 1ms/step - loss: 0.7789 - acc: 0.8409\n",
      "Epoch 15/100\n",
      "132/132 [==============================] - 0s 1ms/step - loss: 0.8218 - acc: 0.7879\n",
      "Epoch 16/100\n",
      "132/132 [==============================] - 0s 1ms/step - loss: 0.6892 - acc: 0.8485\n",
      "Epoch 17/100\n",
      "132/132 [==============================] - 0s 1ms/step - loss: 0.8053 - acc: 0.8182\n",
      "Epoch 18/100\n",
      "132/132 [==============================] - 0s 1ms/step - loss: 0.6710 - acc: 0.8864A: 0s - loss: 0.6989 - acc: 0.864\n",
      "Epoch 19/100\n",
      "132/132 [==============================] - 0s 1ms/step - loss: 0.6291 - acc: 0.8788\n",
      "Epoch 20/100\n",
      "132/132 [==============================] - 0s 1ms/step - loss: 0.5734 - acc: 0.9394\n",
      "Epoch 21/100\n",
      "132/132 [==============================] - 0s 1ms/step - loss: 0.6554 - acc: 0.9091\n",
      "Epoch 22/100\n",
      "132/132 [==============================] - 0s 1ms/step - loss: 0.5497 - acc: 0.9394\n",
      "Epoch 23/100\n",
      "132/132 [==============================] - 0s 1ms/step - loss: 0.6099 - acc: 0.8939\n",
      "Epoch 24/100\n",
      "132/132 [==============================] - 0s 1ms/step - loss: 0.5100 - acc: 0.9545\n",
      "Epoch 25/100\n",
      "132/132 [==============================] - 0s 1ms/step - loss: 0.4963 - acc: 0.9545\n",
      "Epoch 26/100\n",
      "132/132 [==============================] - 0s 1ms/step - loss: 0.5313 - acc: 0.9394\n",
      "Epoch 27/100\n",
      "132/132 [==============================] - 0s 1ms/step - loss: 0.4618 - acc: 0.9621\n",
      "Epoch 28/100\n",
      "132/132 [==============================] - 0s 1ms/step - loss: 0.6542 - acc: 0.8788\n",
      "Epoch 29/100\n",
      "132/132 [==============================] - 0s 1ms/step - loss: 0.4603 - acc: 0.9621\n",
      "Epoch 30/100\n",
      "132/132 [==============================] - 0s 1ms/step - loss: 0.4431 - acc: 0.9621\n",
      "Epoch 31/100\n",
      "132/132 [==============================] - 0s 1ms/step - loss: 0.4663 - acc: 0.9470\n",
      "Epoch 32/100\n",
      "132/132 [==============================] - 0s 1ms/step - loss: 0.5561 - acc: 0.9167\n",
      "Epoch 33/100\n",
      "132/132 [==============================] - 0s 1ms/step - loss: 0.4403 - acc: 0.9621\n",
      "Epoch 34/100\n",
      "132/132 [==============================] - 0s 1ms/step - loss: 0.4516 - acc: 0.9394\n",
      "Epoch 35/100\n",
      "132/132 [==============================] - 0s 1ms/step - loss: 0.3793 - acc: 0.9848\n",
      "Epoch 36/100\n",
      "132/132 [==============================] - 0s 1ms/step - loss: 0.4732 - acc: 0.9394\n",
      "Epoch 37/100\n",
      "132/132 [==============================] - 0s 1ms/step - loss: 0.4801 - acc: 0.9318\n",
      "Epoch 38/100\n",
      "132/132 [==============================] - 0s 1ms/step - loss: 0.3494 - acc: 0.9924\n",
      "Epoch 39/100\n",
      "132/132 [==============================] - 0s 1ms/step - loss: 0.3463 - acc: 0.9848\n",
      "Epoch 40/100\n",
      "132/132 [==============================] - 0s 1ms/step - loss: 0.3425 - acc: 0.9848\n",
      "Epoch 41/100\n",
      "132/132 [==============================] - 0s 1ms/step - loss: 0.3927 - acc: 0.9621\n",
      "Epoch 42/100\n",
      "132/132 [==============================] - 0s 1ms/step - loss: 0.3069 - acc: 0.9924\n",
      "Epoch 43/100\n",
      "132/132 [==============================] - 0s 1ms/step - loss: 0.3721 - acc: 0.9697\n",
      "Epoch 44/100\n",
      "132/132 [==============================] - 0s 1ms/step - loss: 0.3043 - acc: 1.0000\n",
      "Epoch 45/100\n",
      "132/132 [==============================] - 0s 1ms/step - loss: 0.3801 - acc: 0.9621\n",
      "Epoch 46/100\n",
      "132/132 [==============================] - 0s 1ms/step - loss: 0.3383 - acc: 0.9848\n",
      "Epoch 47/100\n",
      "132/132 [==============================] - 0s 1ms/step - loss: 0.4292 - acc: 0.9394\n",
      "Epoch 48/100\n",
      "132/132 [==============================] - 0s 1ms/step - loss: 0.2743 - acc: 1.0000\n",
      "Epoch 49/100\n",
      "132/132 [==============================] - 0s 1ms/step - loss: 0.2799 - acc: 1.0000\n",
      "Epoch 50/100\n",
      "132/132 [==============================] - 0s 1ms/step - loss: 0.3329 - acc: 0.9848\n",
      "Epoch 51/100\n",
      "132/132 [==============================] - 0s 1ms/step - loss: 0.2823 - acc: 0.9848\n",
      "Epoch 52/100\n",
      "132/132 [==============================] - 0s 1ms/step - loss: 0.4293 - acc: 0.9015\n",
      "Epoch 53/100\n",
      "132/132 [==============================] - 0s 1ms/step - loss: 0.2710 - acc: 1.0000\n",
      "Epoch 54/100\n",
      "132/132 [==============================] - 0s 1ms/step - loss: 0.2736 - acc: 0.9924\n",
      "Epoch 55/100\n",
      "132/132 [==============================] - 0s 1ms/step - loss: 0.2391 - acc: 1.0000\n",
      "Epoch 56/100\n",
      "132/132 [==============================] - 0s 1ms/step - loss: 0.2539 - acc: 0.9924\n",
      "Epoch 57/100\n",
      "132/132 [==============================] - 0s 1ms/step - loss: 0.3790 - acc: 0.9394\n",
      "Epoch 58/100\n",
      "132/132 [==============================] - 0s 1ms/step - loss: 0.2281 - acc: 1.0000\n",
      "Epoch 59/100\n",
      "132/132 [==============================] - 0s 1ms/step - loss: 0.2491 - acc: 1.0000\n",
      "Epoch 60/100\n",
      "132/132 [==============================] - 0s 1ms/step - loss: 0.4393 - acc: 0.9091\n",
      "Epoch 61/100\n",
      "132/132 [==============================] - 0s 1ms/step - loss: 0.2592 - acc: 0.9924\n",
      "Epoch 62/100\n",
      "132/132 [==============================] - 0s 1ms/step - loss: 0.2219 - acc: 1.0000\n",
      "Epoch 63/100\n",
      "132/132 [==============================] - 0s 1ms/step - loss: 0.2216 - acc: 1.0000\n",
      "Epoch 64/100\n",
      "132/132 [==============================] - 0s 1ms/step - loss: 0.2852 - acc: 0.9848\n",
      "Epoch 65/100\n",
      "132/132 [==============================] - 0s 1ms/step - loss: 0.2166 - acc: 1.0000\n",
      "Epoch 66/100\n",
      "132/132 [==============================] - 0s 1ms/step - loss: 0.2266 - acc: 0.9924\n",
      "Epoch 67/100\n",
      "132/132 [==============================] - 0s 1ms/step - loss: 0.2105 - acc: 1.0000\n",
      "Epoch 68/100\n",
      "132/132 [==============================] - 0s 1ms/step - loss: 0.2633 - acc: 0.9773\n",
      "Epoch 69/100\n",
      "132/132 [==============================] - 0s 1ms/step - loss: 0.2011 - acc: 1.0000\n",
      "Epoch 70/100\n",
      "132/132 [==============================] - 0s 1ms/step - loss: 0.1979 - acc: 1.0000\n",
      "Epoch 71/100\n",
      "132/132 [==============================] - 0s 1ms/step - loss: 0.1949 - acc: 1.0000\n",
      "Epoch 72/100\n",
      "132/132 [==============================] - 0s 1ms/step - loss: 0.2692 - acc: 0.9773\n",
      "Epoch 73/100\n",
      "132/132 [==============================] - 0s 1ms/step - loss: 0.1847 - acc: 1.0000\n",
      "Epoch 74/100\n",
      "132/132 [==============================] - 0s 1ms/step - loss: 0.2767 - acc: 0.9697\n",
      "Epoch 75/100\n",
      "132/132 [==============================] - 0s 1ms/step - loss: 0.1899 - acc: 1.0000\n",
      "Epoch 76/100\n",
      "132/132 [==============================] - 0s 1ms/step - loss: 0.1886 - acc: 1.0000\n",
      "Epoch 77/100\n",
      "132/132 [==============================] - 0s 1ms/step - loss: 0.1831 - acc: 1.0000A: 0s - loss: 0.1950 - acc: 1.000\n",
      "Epoch 78/100\n",
      "132/132 [==============================] - 0s 1ms/step - loss: 0.1748 - acc: 1.0000\n",
      "Epoch 79/100\n",
      "132/132 [==============================] - 0s 1ms/step - loss: 0.1979 - acc: 1.0000\n",
      "Epoch 80/100\n",
      "132/132 [==============================] - 0s 1ms/step - loss: 0.2417 - acc: 0.9848\n",
      "Epoch 81/100\n",
      "132/132 [==============================] - 0s 1ms/step - loss: 0.2612 - acc: 0.9470\n",
      "Epoch 82/100\n",
      "132/132 [==============================] - 0s 1ms/step - loss: 0.1674 - acc: 1.0000\n",
      "Epoch 83/100\n",
      "132/132 [==============================] - 0s 1ms/step - loss: 0.1631 - acc: 1.0000\n",
      "Epoch 84/100\n",
      "132/132 [==============================] - 0s 1ms/step - loss: 0.1616 - acc: 1.0000\n",
      "Epoch 85/100\n",
      "132/132 [==============================] - 0s 1ms/step - loss: 0.1536 - acc: 1.0000\n",
      "Epoch 86/100\n",
      "132/132 [==============================] - 0s 1ms/step - loss: 0.1632 - acc: 1.0000\n",
      "Epoch 87/100\n",
      "132/132 [==============================] - 0s 1ms/step - loss: 0.2079 - acc: 0.9773\n",
      "Epoch 88/100\n",
      "132/132 [==============================] - 0s 1ms/step - loss: 0.1531 - acc: 1.0000\n",
      "Epoch 89/100\n",
      "132/132 [==============================] - 0s 1ms/step - loss: 0.1556 - acc: 1.0000\n",
      "Epoch 90/100\n",
      "132/132 [==============================] - 0s 1ms/step - loss: 0.1524 - acc: 1.0000\n",
      "Epoch 91/100\n",
      "132/132 [==============================] - 0s 1ms/step - loss: 0.2024 - acc: 0.9848\n",
      "Epoch 92/100\n",
      "132/132 [==============================] - 0s 1ms/step - loss: 0.1544 - acc: 1.0000\n",
      "Epoch 93/100\n",
      "132/132 [==============================] - 0s 1ms/step - loss: 0.2148 - acc: 0.9773\n",
      "Epoch 94/100\n",
      "132/132 [==============================] - 0s 1ms/step - loss: 0.1527 - acc: 1.0000\n",
      "Epoch 95/100\n",
      "132/132 [==============================] - 0s 1ms/step - loss: 0.1479 - acc: 1.0000\n",
      "Epoch 96/100\n",
      "132/132 [==============================] - 0s 1ms/step - loss: 0.1450 - acc: 1.0000\n",
      "Epoch 97/100\n",
      "132/132 [==============================] - 0s 1ms/step - loss: 0.1636 - acc: 0.9924\n",
      "Epoch 98/100\n",
      "132/132 [==============================] - 0s 1ms/step - loss: 0.1384 - acc: 1.0000\n",
      "Epoch 99/100\n",
      "132/132 [==============================] - 0s 1ms/step - loss: 0.1353 - acc: 1.0000\n",
      "Epoch 100/100\n",
      "132/132 [==============================] - 0s 1ms/step - loss: 0.1369 - acc: 1.0000\n"
     ]
    }
   ],
   "source": [
    "train_history = model.fit(X_train_indices, Y_train_oh, epochs = 100, batch_size = 32, shuffle=True)"
   ]
  },
  {
   "cell_type": "code",
   "execution_count": 28,
   "metadata": {},
   "outputs": [],
   "source": [
    "#其實model.fit本來就會回傳記錄曲線圖\n",
    "def show_train_history(train_history, train):\n",
    "    plt.plot(train_history.history[train])\n",
    "    plt.title('Train History')\n",
    "    plt.ylabel('train')\n",
    "    plt.xlabel('Epoch')\n",
    "    plt.legend([\"train\"], loc = 'center right')\n",
    "    plt.show()"
   ]
  },
  {
   "cell_type": "code",
   "execution_count": 29,
   "metadata": {},
   "outputs": [
    {
     "data": {
      "image/png": "[encoded data removed]",
      "text/plain": [
       "<Figure size 432x288 with 1 Axes>"
      ]
     },
     "metadata": {
      "needs_background": "light"
     },
     "output_type": "display_data"
    }
   ],
   "source": [
    "show_train_history(train_history, 'acc')"
   ]
  },
  {
   "cell_type": "code",
   "execution_count": 30,
   "metadata": {},
   "outputs": [
    {
     "data": {
      "image/png": "[encoded data removed]",
      "text/plain": [
       "<Figure size 432x288 with 1 Axes>"
      ]
     },
     "metadata": {
      "needs_background": "light"
     },
     "output_type": "display_data"
    }
   ],
   "source": [
    "show_train_history(train_history, 'loss')"
   ]
  },
  {
   "cell_type": "code",
   "execution_count": 31,
   "metadata": {},
   "outputs": [
    {
     "name": "stdout",
     "output_type": "stream",
     "text": [
      "56/56 [==============================] - 0s 4ms/step\n",
      "Test accuracy =  0.9285714370863778\n"
     ]
    }
   ],
   "source": [
    "X_test_indices = sentences_to_indices(X_test, word_to_index, max_len = maxLen)\n",
    "Y_test_oh = convert_to_one_hot(Y_test, C = 5)\n",
    "loss, acc = model.evaluate(X_test_indices, Y_test_oh)\n",
    "print(\"Test accuracy = \", acc)"
   ]
  },
  {
   "cell_type": "code",
   "execution_count": 32,
   "metadata": {},
   "outputs": [
    {
     "name": "stdout",
     "output_type": "stream",
     "text": [
      "Expected emoji:😞 prediction: stop pissing me off⚾\n",
      "Expected emoji:❤️ prediction: I love taking breaks\t😞\n",
      "Expected emoji:⚾ prediction: he can pitch really well\t😄\n",
      "Expected emoji:❤️ prediction: family is all I have\t🍴\n"
     ]
    }
   ],
   "source": [
    "# This code allows you to see the mislabelled examples\n",
    "C = 5\n",
    "y_test_oh = np.eye(C)[Y_test.reshape(-1)]\n",
    "X_test_indices = sentences_to_indices(X_test, word_to_index, maxLen)\n",
    "pred = model.predict(X_test_indices)\n",
    "for i in range(len(X_test)):\n",
    "    x = X_test_indices\n",
    "    num = np.argmax(pred[i])\n",
    "    if(num != Y_test[i]):\n",
    "        print('Expected emoji:'+ label_to_emoji(Y_test[i]) + ' prediction: '+ X_test[i] + label_to_emoji(num).strip())"
   ]
  },
  {
   "cell_type": "code",
   "execution_count": 33,
   "metadata": {},
   "outputs": [
    {
     "name": "stdout",
     "output_type": "stream",
     "text": [
      "you are not happy 😞\n"
     ]
    }
   ],
   "source": [
    "# Change the sentence below to see your prediction. Make sure all the words are in the Glove embeddings.  \n",
    "x_test = np.array(['you are not happy'])\n",
    "X_test_indices = sentences_to_indices(x_test, word_to_index, maxLen)\n",
    "print(x_test[0] +' '+  label_to_emoji(np.argmax(model.predict(X_test_indices))))"
   ]
  },
  {
   "cell_type": "code",
   "execution_count": null,
   "metadata": {},
   "outputs": [],
   "source": []
  }
 ],
 "metadata": {
  "kernelspec": {
   "display_name": "Python 3",
   "language": "python",
   "name": "python3"
  },
  "language_info": {
   "codemirror_mode": {
    "name": "ipython",
    "version": 3
   },
   "file_extension": ".py",
   "mimetype": "text/x-python",
   "name": "python",
   "nbconvert_exporter": "python",
   "pygments_lexer": "ipython3",
   "version": "3.5.4"
  }
 },
 "nbformat": 4,
 "nbformat_minor": 2
}
